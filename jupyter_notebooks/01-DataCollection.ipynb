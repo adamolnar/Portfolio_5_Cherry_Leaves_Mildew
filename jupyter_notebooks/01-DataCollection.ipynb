{
  "cells": [
    {
      "cell_type": "markdown",
      "metadata": {},
      "source": [
        "# **Data Collection**"
      ]
    },
    {
      "cell_type": "markdown",
      "metadata": {},
      "source": [
        "---"
      ]
    },
    {
      "cell_type": "markdown",
      "metadata": {},
      "source": [
        "## Objectives\n",
        "\n",
        "* Answer business requirement 1 by visually distinguishing healthy cherry leaves from those containing powdery mildew. \n",
        "  - Data visualization\n",
        "  - Image analysis\n",
        "  - Model preparation\n",
        "\n",
        "## Inputs\n",
        "\n",
        "*   Kaggle JSON file - the authentication token. \n",
        "\n",
        "## Outputs\n",
        "\n",
        "* Generate Dataset: inputs/cherry_leaves_dataset/cherry-leaves\n",
        "\n",
        "\n",
        "## Comments | Insights | Conclusions\n",
        "\n",
        "* These steps are necessary to fetch the data, clean it, and divide it into subsets for the purposes of machine learning. \n",
        "\n",
        "* The next step will be Data Visualization to understand the data and discover patterns.\n"
      ]
    },
    {
      "cell_type": "markdown",
      "metadata": {},
      "source": [
        "---"
      ]
    },
    {
      "cell_type": "code",
      "execution_count": 1,
      "metadata": {},
      "outputs": [
        {
          "name": "stdout",
          "output_type": "stream",
          "text": [
            "Requirement already satisfied: absl-py==2.1.0 in /workspace/.pyenv_mirror/user/current/lib/python3.8/site-packages (from -r /workspace/Portfolio_5_Cherry_Leaves_Mildew/requirements.txt (line 1)) (2.1.0)\n",
            "Requirement already satisfied: altair==5.2.0 in /workspace/.pyenv_mirror/user/current/lib/python3.8/site-packages (from -r /workspace/Portfolio_5_Cherry_Leaves_Mildew/requirements.txt (line 2)) (5.2.0)\n",
            "Requirement already satisfied: astunparse==1.6.3 in /workspace/.pyenv_mirror/user/current/lib/python3.8/site-packages (from -r /workspace/Portfolio_5_Cherry_Leaves_Mildew/requirements.txt (line 3)) (1.6.3)\n",
            "Requirement already satisfied: attrs==23.2.0 in /workspace/.pyenv_mirror/user/current/lib/python3.8/site-packages (from -r /workspace/Portfolio_5_Cherry_Leaves_Mildew/requirements.txt (line 4)) (23.2.0)\n",
            "Requirement already satisfied: backports.zoneinfo==0.2.1 in /workspace/.pyenv_mirror/user/current/lib/python3.8/site-packages (from -r /workspace/Portfolio_5_Cherry_Leaves_Mildew/requirements.txt (line 5)) (0.2.1)\n",
            "Requirement already satisfied: blinker==1.7.0 in /workspace/.pyenv_mirror/user/current/lib/python3.8/site-packages (from -r /workspace/Portfolio_5_Cherry_Leaves_Mildew/requirements.txt (line 6)) (1.7.0)\n",
            "Requirement already satisfied: cachetools==5.3.2 in /workspace/.pyenv_mirror/user/current/lib/python3.8/site-packages (from -r /workspace/Portfolio_5_Cherry_Leaves_Mildew/requirements.txt (line 7)) (5.3.2)\n",
            "Requirement already satisfied: click==8.1.7 in /workspace/.pyenv_mirror/user/current/lib/python3.8/site-packages (from -r /workspace/Portfolio_5_Cherry_Leaves_Mildew/requirements.txt (line 8)) (8.1.7)\n",
            "Requirement already satisfied: contourpy==1.1.1 in /workspace/.pyenv_mirror/user/current/lib/python3.8/site-packages (from -r /workspace/Portfolio_5_Cherry_Leaves_Mildew/requirements.txt (line 9)) (1.1.1)\n",
            "Requirement already satisfied: cycler==0.12.1 in /workspace/.pyenv_mirror/user/current/lib/python3.8/site-packages (from -r /workspace/Portfolio_5_Cherry_Leaves_Mildew/requirements.txt (line 10)) (0.12.1)\n",
            "Requirement already satisfied: fastjsonschema==2.19.1 in /workspace/.pyenv_mirror/user/current/lib/python3.8/site-packages (from -r /workspace/Portfolio_5_Cherry_Leaves_Mildew/requirements.txt (line 11)) (2.19.1)\n",
            "Requirement already satisfied: flatbuffers==23.5.26 in /workspace/.pyenv_mirror/user/current/lib/python3.8/site-packages (from -r /workspace/Portfolio_5_Cherry_Leaves_Mildew/requirements.txt (line 12)) (23.5.26)\n",
            "Requirement already satisfied: fonttools==4.47.2 in /workspace/.pyenv_mirror/user/current/lib/python3.8/site-packages (from -r /workspace/Portfolio_5_Cherry_Leaves_Mildew/requirements.txt (line 13)) (4.47.2)\n",
            "Requirement already satisfied: gast==0.4.0 in /workspace/.pyenv_mirror/user/current/lib/python3.8/site-packages (from -r /workspace/Portfolio_5_Cherry_Leaves_Mildew/requirements.txt (line 14)) (0.4.0)\n",
            "Requirement already satisfied: gitdb==4.0.11 in /workspace/.pyenv_mirror/user/current/lib/python3.8/site-packages (from -r /workspace/Portfolio_5_Cherry_Leaves_Mildew/requirements.txt (line 15)) (4.0.11)\n",
            "Requirement already satisfied: GitPython==3.1.41 in /workspace/.pyenv_mirror/user/current/lib/python3.8/site-packages (from -r /workspace/Portfolio_5_Cherry_Leaves_Mildew/requirements.txt (line 16)) (3.1.41)\n",
            "Requirement already satisfied: google-auth==2.27.0 in /workspace/.pyenv_mirror/user/current/lib/python3.8/site-packages (from -r /workspace/Portfolio_5_Cherry_Leaves_Mildew/requirements.txt (line 17)) (2.27.0)\n",
            "Requirement already satisfied: google-auth-oauthlib==1.0.0 in /workspace/.pyenv_mirror/user/current/lib/python3.8/site-packages (from -r /workspace/Portfolio_5_Cherry_Leaves_Mildew/requirements.txt (line 18)) (1.0.0)\n",
            "Requirement already satisfied: google-pasta==0.2.0 in /workspace/.pyenv_mirror/user/current/lib/python3.8/site-packages (from -r /workspace/Portfolio_5_Cherry_Leaves_Mildew/requirements.txt (line 19)) (0.2.0)\n",
            "Requirement already satisfied: grpcio==1.60.0 in /workspace/.pyenv_mirror/user/current/lib/python3.8/site-packages (from -r /workspace/Portfolio_5_Cherry_Leaves_Mildew/requirements.txt (line 20)) (1.60.0)\n",
            "Requirement already satisfied: h5py==3.10.0 in /workspace/.pyenv_mirror/user/current/lib/python3.8/site-packages (from -r /workspace/Portfolio_5_Cherry_Leaves_Mildew/requirements.txt (line 21)) (3.10.0)\n",
            "Requirement already satisfied: imageio==2.33.1 in /workspace/.pyenv_mirror/user/current/lib/python3.8/site-packages (from -r /workspace/Portfolio_5_Cherry_Leaves_Mildew/requirements.txt (line 22)) (2.33.1)\n",
            "Requirement already satisfied: importlib-resources==6.1.1 in /workspace/.pyenv_mirror/user/current/lib/python3.8/site-packages (from -r /workspace/Portfolio_5_Cherry_Leaves_Mildew/requirements.txt (line 23)) (6.1.1)\n",
            "Requirement already satisfied: install==1.3.5 in /workspace/.pyenv_mirror/user/current/lib/python3.8/site-packages (from -r /workspace/Portfolio_5_Cherry_Leaves_Mildew/requirements.txt (line 24)) (1.3.5)\n",
            "Requirement already satisfied: Jinja2==3.1.3 in /workspace/.pyenv_mirror/user/current/lib/python3.8/site-packages (from -r /workspace/Portfolio_5_Cherry_Leaves_Mildew/requirements.txt (line 25)) (3.1.3)\n",
            "Requirement already satisfied: joblib==1.3.2 in /workspace/.pyenv_mirror/user/current/lib/python3.8/site-packages (from -r /workspace/Portfolio_5_Cherry_Leaves_Mildew/requirements.txt (line 26)) (1.3.2)\n",
            "Requirement already satisfied: jsonschema==4.21.1 in /workspace/.pyenv_mirror/user/current/lib/python3.8/site-packages (from -r /workspace/Portfolio_5_Cherry_Leaves_Mildew/requirements.txt (line 27)) (4.21.1)\n",
            "Requirement already satisfied: jsonschema-specifications==2023.12.1 in /workspace/.pyenv_mirror/user/current/lib/python3.8/site-packages (from -r /workspace/Portfolio_5_Cherry_Leaves_Mildew/requirements.txt (line 28)) (2023.12.1)\n",
            "Requirement already satisfied: kaleido==0.2.1 in /workspace/.pyenv_mirror/user/current/lib/python3.8/site-packages (from -r /workspace/Portfolio_5_Cherry_Leaves_Mildew/requirements.txt (line 29)) (0.2.1)\n",
            "Requirement already satisfied: keras==2.13.1 in /workspace/.pyenv_mirror/user/current/lib/python3.8/site-packages (from -r /workspace/Portfolio_5_Cherry_Leaves_Mildew/requirements.txt (line 30)) (2.13.1)\n",
            "Requirement already satisfied: kiwisolver==1.4.5 in /workspace/.pyenv_mirror/user/current/lib/python3.8/site-packages (from -r /workspace/Portfolio_5_Cherry_Leaves_Mildew/requirements.txt (line 31)) (1.4.5)\n",
            "Requirement already satisfied: lazy_loader==0.3 in /workspace/.pyenv_mirror/user/current/lib/python3.8/site-packages (from -r /workspace/Portfolio_5_Cherry_Leaves_Mildew/requirements.txt (line 32)) (0.3)\n",
            "Requirement already satisfied: libclang==16.0.6 in /workspace/.pyenv_mirror/user/current/lib/python3.8/site-packages (from -r /workspace/Portfolio_5_Cherry_Leaves_Mildew/requirements.txt (line 33)) (16.0.6)\n",
            "Requirement already satisfied: Markdown==3.5.2 in /workspace/.pyenv_mirror/user/current/lib/python3.8/site-packages (from -r /workspace/Portfolio_5_Cherry_Leaves_Mildew/requirements.txt (line 34)) (3.5.2)\n",
            "Requirement already satisfied: markdown-it-py==3.0.0 in /workspace/.pyenv_mirror/user/current/lib/python3.8/site-packages (from -r /workspace/Portfolio_5_Cherry_Leaves_Mildew/requirements.txt (line 35)) (3.0.0)\n",
            "Requirement already satisfied: MarkupSafe==2.1.4 in /workspace/.pyenv_mirror/user/current/lib/python3.8/site-packages (from -r /workspace/Portfolio_5_Cherry_Leaves_Mildew/requirements.txt (line 36)) (2.1.4)\n",
            "Requirement already satisfied: matplotlib==3.7.4 in /workspace/.pyenv_mirror/user/current/lib/python3.8/site-packages (from -r /workspace/Portfolio_5_Cherry_Leaves_Mildew/requirements.txt (line 37)) (3.7.4)\n",
            "Requirement already satisfied: mdurl==0.1.2 in /workspace/.pyenv_mirror/user/current/lib/python3.8/site-packages (from -r /workspace/Portfolio_5_Cherry_Leaves_Mildew/requirements.txt (line 38)) (0.1.2)\n",
            "Requirement already satisfied: nbformat==5.9.2 in /workspace/.pyenv_mirror/user/current/lib/python3.8/site-packages (from -r /workspace/Portfolio_5_Cherry_Leaves_Mildew/requirements.txt (line 39)) (5.9.2)\n",
            "Requirement already satisfied: networkx==3.1 in /workspace/.pyenv_mirror/user/current/lib/python3.8/site-packages (from -r /workspace/Portfolio_5_Cherry_Leaves_Mildew/requirements.txt (line 40)) (3.1)\n",
            "Requirement already satisfied: numpy==1.24.3 in /workspace/.pyenv_mirror/user/current/lib/python3.8/site-packages (from -r /workspace/Portfolio_5_Cherry_Leaves_Mildew/requirements.txt (line 41)) (1.24.3)\n",
            "Requirement already satisfied: oauthlib==3.2.2 in /workspace/.pyenv_mirror/user/current/lib/python3.8/site-packages (from -r /workspace/Portfolio_5_Cherry_Leaves_Mildew/requirements.txt (line 42)) (3.2.2)\n",
            "Requirement already satisfied: opencv-python==4.9.0.80 in /workspace/.pyenv_mirror/user/current/lib/python3.8/site-packages (from -r /workspace/Portfolio_5_Cherry_Leaves_Mildew/requirements.txt (line 43)) (4.9.0.80)\n",
            "Requirement already satisfied: opencv-python-headless==4.9.0.80 in /workspace/.pyenv_mirror/user/current/lib/python3.8/site-packages (from -r /workspace/Portfolio_5_Cherry_Leaves_Mildew/requirements.txt (line 44)) (4.9.0.80)\n",
            "Requirement already satisfied: opt-einsum==3.3.0 in /workspace/.pyenv_mirror/user/current/lib/python3.8/site-packages (from -r /workspace/Portfolio_5_Cherry_Leaves_Mildew/requirements.txt (line 45)) (3.3.0)\n",
            "Requirement already satisfied: pandas==2.0.3 in /workspace/.pyenv_mirror/user/current/lib/python3.8/site-packages (from -r /workspace/Portfolio_5_Cherry_Leaves_Mildew/requirements.txt (line 46)) (2.0.3)\n",
            "Requirement already satisfied: pillow==10.2.0 in /workspace/.pyenv_mirror/user/current/lib/python3.8/site-packages (from -r /workspace/Portfolio_5_Cherry_Leaves_Mildew/requirements.txt (line 47)) (10.2.0)\n",
            "Requirement already satisfied: pip-autoremove==0.10.0 in /workspace/.pyenv_mirror/user/current/lib/python3.8/site-packages (from -r /workspace/Portfolio_5_Cherry_Leaves_Mildew/requirements.txt (line 48)) (0.10.0)\n",
            "Requirement already satisfied: pkgutil_resolve_name==1.3.10 in /workspace/.pyenv_mirror/user/current/lib/python3.8/site-packages (from -r /workspace/Portfolio_5_Cherry_Leaves_Mildew/requirements.txt (line 49)) (1.3.10)\n",
            "Requirement already satisfied: plotly==5.18.0 in /workspace/.pyenv_mirror/user/current/lib/python3.8/site-packages (from -r /workspace/Portfolio_5_Cherry_Leaves_Mildew/requirements.txt (line 50)) (5.18.0)\n",
            "Requirement already satisfied: protobuf==4.25.2 in /workspace/.pyenv_mirror/user/current/lib/python3.8/site-packages (from -r /workspace/Portfolio_5_Cherry_Leaves_Mildew/requirements.txt (line 51)) (4.25.2)\n",
            "Requirement already satisfied: pyarrow==15.0.0 in /workspace/.pyenv_mirror/user/current/lib/python3.8/site-packages (from -r /workspace/Portfolio_5_Cherry_Leaves_Mildew/requirements.txt (line 52)) (15.0.0)\n",
            "Requirement already satisfied: pyasn1==0.5.1 in /workspace/.pyenv_mirror/user/current/lib/python3.8/site-packages (from -r /workspace/Portfolio_5_Cherry_Leaves_Mildew/requirements.txt (line 53)) (0.5.1)\n",
            "Requirement already satisfied: pyasn1-modules==0.3.0 in /workspace/.pyenv_mirror/user/current/lib/python3.8/site-packages (from -r /workspace/Portfolio_5_Cherry_Leaves_Mildew/requirements.txt (line 54)) (0.3.0)\n",
            "Requirement already satisfied: pydeck==0.8.1b0 in /workspace/.pyenv_mirror/user/current/lib/python3.8/site-packages (from -r /workspace/Portfolio_5_Cherry_Leaves_Mildew/requirements.txt (line 55)) (0.8.1b0)\n",
            "Requirement already satisfied: pyparsing==3.1.1 in /workspace/.pyenv_mirror/user/current/lib/python3.8/site-packages (from -r /workspace/Portfolio_5_Cherry_Leaves_Mildew/requirements.txt (line 56)) (3.1.1)\n",
            "Requirement already satisfied: pytz==2023.3.post1 in /workspace/.pyenv_mirror/user/current/lib/python3.8/site-packages (from -r /workspace/Portfolio_5_Cherry_Leaves_Mildew/requirements.txt (line 57)) (2023.3.post1)\n",
            "Requirement already satisfied: PyWavelets==1.4.1 in /workspace/.pyenv_mirror/user/current/lib/python3.8/site-packages (from -r /workspace/Portfolio_5_Cherry_Leaves_Mildew/requirements.txt (line 58)) (1.4.1)\n",
            "Requirement already satisfied: referencing==0.33.0 in /workspace/.pyenv_mirror/user/current/lib/python3.8/site-packages (from -r /workspace/Portfolio_5_Cherry_Leaves_Mildew/requirements.txt (line 59)) (0.33.0)\n",
            "Requirement already satisfied: requests-oauthlib==1.3.1 in /workspace/.pyenv_mirror/user/current/lib/python3.8/site-packages (from -r /workspace/Portfolio_5_Cherry_Leaves_Mildew/requirements.txt (line 60)) (1.3.1)\n",
            "Requirement already satisfied: rich==13.7.0 in /workspace/.pyenv_mirror/user/current/lib/python3.8/site-packages (from -r /workspace/Portfolio_5_Cherry_Leaves_Mildew/requirements.txt (line 61)) (13.7.0)\n",
            "Requirement already satisfied: rpds-py==0.17.1 in /workspace/.pyenv_mirror/user/current/lib/python3.8/site-packages (from -r /workspace/Portfolio_5_Cherry_Leaves_Mildew/requirements.txt (line 62)) (0.17.1)\n",
            "Requirement already satisfied: rsa==4.9 in /workspace/.pyenv_mirror/user/current/lib/python3.8/site-packages (from -r /workspace/Portfolio_5_Cherry_Leaves_Mildew/requirements.txt (line 63)) (4.9)\n",
            "Requirement already satisfied: scikit-image==0.21.0 in /workspace/.pyenv_mirror/user/current/lib/python3.8/site-packages (from -r /workspace/Portfolio_5_Cherry_Leaves_Mildew/requirements.txt (line 64)) (0.21.0)\n",
            "Requirement already satisfied: scikit-learn==1.3.2 in /workspace/.pyenv_mirror/user/current/lib/python3.8/site-packages (from -r /workspace/Portfolio_5_Cherry_Leaves_Mildew/requirements.txt (line 65)) (1.3.2)\n",
            "Requirement already satisfied: scipy==1.10.1 in /workspace/.pyenv_mirror/user/current/lib/python3.8/site-packages (from -r /workspace/Portfolio_5_Cherry_Leaves_Mildew/requirements.txt (line 66)) (1.10.1)\n",
            "Requirement already satisfied: seaborn==0.13.2 in /workspace/.pyenv_mirror/user/current/lib/python3.8/site-packages (from -r /workspace/Portfolio_5_Cherry_Leaves_Mildew/requirements.txt (line 67)) (0.13.2)\n",
            "Requirement already satisfied: smmap==5.0.1 in /workspace/.pyenv_mirror/user/current/lib/python3.8/site-packages (from -r /workspace/Portfolio_5_Cherry_Leaves_Mildew/requirements.txt (line 68)) (5.0.1)\n",
            "Requirement already satisfied: streamlit==1.30.0 in /workspace/.pyenv_mirror/user/current/lib/python3.8/site-packages (from -r /workspace/Portfolio_5_Cherry_Leaves_Mildew/requirements.txt (line 69)) (1.30.0)\n",
            "Requirement already satisfied: tenacity==8.2.3 in /workspace/.pyenv_mirror/user/current/lib/python3.8/site-packages (from -r /workspace/Portfolio_5_Cherry_Leaves_Mildew/requirements.txt (line 70)) (8.2.3)\n",
            "Requirement already satisfied: tensorboard==2.13.0 in /workspace/.pyenv_mirror/user/current/lib/python3.8/site-packages (from -r /workspace/Portfolio_5_Cherry_Leaves_Mildew/requirements.txt (line 71)) (2.13.0)\n",
            "Requirement already satisfied: tensorboard-data-server==0.7.2 in /workspace/.pyenv_mirror/user/current/lib/python3.8/site-packages (from -r /workspace/Portfolio_5_Cherry_Leaves_Mildew/requirements.txt (line 72)) (0.7.2)\n",
            "Requirement already satisfied: tensorflow==2.13.1 in /workspace/.pyenv_mirror/user/current/lib/python3.8/site-packages (from -r /workspace/Portfolio_5_Cherry_Leaves_Mildew/requirements.txt (line 73)) (2.13.1)\n",
            "Requirement already satisfied: tensorflow-estimator==2.13.0 in /workspace/.pyenv_mirror/user/current/lib/python3.8/site-packages (from -r /workspace/Portfolio_5_Cherry_Leaves_Mildew/requirements.txt (line 74)) (2.13.0)\n",
            "Requirement already satisfied: tensorflow-io-gcs-filesystem==0.34.0 in /workspace/.pyenv_mirror/user/current/lib/python3.8/site-packages (from -r /workspace/Portfolio_5_Cherry_Leaves_Mildew/requirements.txt (line 75)) (0.34.0)\n",
            "Requirement already satisfied: termcolor==2.4.0 in /workspace/.pyenv_mirror/user/current/lib/python3.8/site-packages (from -r /workspace/Portfolio_5_Cherry_Leaves_Mildew/requirements.txt (line 76)) (2.4.0)\n",
            "Requirement already satisfied: threadpoolctl==3.2.0 in /workspace/.pyenv_mirror/user/current/lib/python3.8/site-packages (from -r /workspace/Portfolio_5_Cherry_Leaves_Mildew/requirements.txt (line 77)) (3.2.0)\n",
            "Requirement already satisfied: tifffile==2023.7.10 in /workspace/.pyenv_mirror/user/current/lib/python3.8/site-packages (from -r /workspace/Portfolio_5_Cherry_Leaves_Mildew/requirements.txt (line 78)) (2023.7.10)\n",
            "Requirement already satisfied: toml==0.10.2 in /workspace/.pyenv_mirror/user/current/lib/python3.8/site-packages (from -r /workspace/Portfolio_5_Cherry_Leaves_Mildew/requirements.txt (line 79)) (0.10.2)\n",
            "Requirement already satisfied: toolz==0.12.1 in /workspace/.pyenv_mirror/user/current/lib/python3.8/site-packages (from -r /workspace/Portfolio_5_Cherry_Leaves_Mildew/requirements.txt (line 80)) (0.12.1)\n",
            "Requirement already satisfied: typing_extensions==4.5.0 in /workspace/.pyenv_mirror/user/current/lib/python3.8/site-packages (from -r /workspace/Portfolio_5_Cherry_Leaves_Mildew/requirements.txt (line 81)) (4.5.0)\n",
            "Requirement already satisfied: tzdata==2023.4 in /workspace/.pyenv_mirror/user/current/lib/python3.8/site-packages (from -r /workspace/Portfolio_5_Cherry_Leaves_Mildew/requirements.txt (line 82)) (2023.4)\n",
            "Requirement already satisfied: tzlocal==5.2 in /workspace/.pyenv_mirror/user/current/lib/python3.8/site-packages (from -r /workspace/Portfolio_5_Cherry_Leaves_Mildew/requirements.txt (line 83)) (5.2)\n",
            "Requirement already satisfied: validators==0.22.0 in /workspace/.pyenv_mirror/user/current/lib/python3.8/site-packages (from -r /workspace/Portfolio_5_Cherry_Leaves_Mildew/requirements.txt (line 84)) (0.22.0)\n",
            "Requirement already satisfied: watchdog==3.0.0 in /workspace/.pyenv_mirror/user/current/lib/python3.8/site-packages (from -r /workspace/Portfolio_5_Cherry_Leaves_Mildew/requirements.txt (line 85)) (3.0.0)\n",
            "Requirement already satisfied: Werkzeug==3.0.1 in /workspace/.pyenv_mirror/user/current/lib/python3.8/site-packages (from -r /workspace/Portfolio_5_Cherry_Leaves_Mildew/requirements.txt (line 86)) (3.0.1)\n",
            "Requirement already satisfied: wrapt==1.16.0 in /workspace/.pyenv_mirror/user/current/lib/python3.8/site-packages (from -r /workspace/Portfolio_5_Cherry_Leaves_Mildew/requirements.txt (line 87)) (1.16.0)\n",
            "Requirement already satisfied: yellowbrick==1.5 in /workspace/.pyenv_mirror/user/current/lib/python3.8/site-packages (from -r /workspace/Portfolio_5_Cherry_Leaves_Mildew/requirements.txt (line 88)) (1.5)\n",
            "Requirement already satisfied: packaging in /home/gitpod/.pyenv/versions/3.8.18/lib/python3.8/site-packages (from altair==5.2.0->-r /workspace/Portfolio_5_Cherry_Leaves_Mildew/requirements.txt (line 2)) (23.2)\n",
            "Requirement already satisfied: wheel<1.0,>=0.23.0 in /workspace/.pyenv_mirror/user/current/lib/python3.8/site-packages (from astunparse==1.6.3->-r /workspace/Portfolio_5_Cherry_Leaves_Mildew/requirements.txt (line 3)) (0.42.0)\n",
            "Requirement already satisfied: six<2.0,>=1.6.1 in /home/gitpod/.pyenv/versions/3.8.18/lib/python3.8/site-packages (from astunparse==1.6.3->-r /workspace/Portfolio_5_Cherry_Leaves_Mildew/requirements.txt (line 3)) (1.16.0)\n",
            "Requirement already satisfied: zipp>=3.1.0 in /home/gitpod/.pyenv/versions/3.8.18/lib/python3.8/site-packages (from importlib-resources==6.1.1->-r /workspace/Portfolio_5_Cherry_Leaves_Mildew/requirements.txt (line 23)) (3.17.0)\n",
            "Requirement already satisfied: importlib-metadata>=4.4 in /home/gitpod/.pyenv/versions/3.8.18/lib/python3.8/site-packages (from Markdown==3.5.2->-r /workspace/Portfolio_5_Cherry_Leaves_Mildew/requirements.txt (line 34)) (7.0.1)\n",
            "Requirement already satisfied: python-dateutil>=2.7 in /home/gitpod/.pyenv/versions/3.8.18/lib/python3.8/site-packages (from matplotlib==3.7.4->-r /workspace/Portfolio_5_Cherry_Leaves_Mildew/requirements.txt (line 37)) (2.8.2)\n",
            "Requirement already satisfied: jupyter-core in /home/gitpod/.pyenv/versions/3.8.18/lib/python3.8/site-packages (from nbformat==5.9.2->-r /workspace/Portfolio_5_Cherry_Leaves_Mildew/requirements.txt (line 39)) (5.7.1)\n",
            "Requirement already satisfied: traitlets>=5.1 in /home/gitpod/.pyenv/versions/3.8.18/lib/python3.8/site-packages (from nbformat==5.9.2->-r /workspace/Portfolio_5_Cherry_Leaves_Mildew/requirements.txt (line 39)) (5.14.1)\n",
            "Requirement already satisfied: pip in /workspace/.pyenv_mirror/user/current/lib/python3.8/site-packages (from pip-autoremove==0.10.0->-r /workspace/Portfolio_5_Cherry_Leaves_Mildew/requirements.txt (line 48)) (24.0)\n",
            "Requirement already satisfied: setuptools in /home/gitpod/.pyenv/versions/3.8.18/lib/python3.8/site-packages (from pip-autoremove==0.10.0->-r /workspace/Portfolio_5_Cherry_Leaves_Mildew/requirements.txt (line 48)) (56.0.0)\n",
            "Requirement already satisfied: requests>=2.0.0 in /home/gitpod/.pyenv/versions/3.8.18/lib/python3.8/site-packages (from requests-oauthlib==1.3.1->-r /workspace/Portfolio_5_Cherry_Leaves_Mildew/requirements.txt (line 60)) (2.31.0)\n",
            "Requirement already satisfied: pygments<3.0.0,>=2.13.0 in /home/gitpod/.pyenv/versions/3.8.18/lib/python3.8/site-packages (from rich==13.7.0->-r /workspace/Portfolio_5_Cherry_Leaves_Mildew/requirements.txt (line 61)) (2.17.2)\n",
            "Requirement already satisfied: tornado<7,>=6.0.3 in /home/gitpod/.pyenv/versions/3.8.18/lib/python3.8/site-packages (from streamlit==1.30.0->-r /workspace/Portfolio_5_Cherry_Leaves_Mildew/requirements.txt (line 69)) (6.4)\n",
            "Requirement already satisfied: charset-normalizer<4,>=2 in /home/gitpod/.pyenv/versions/3.8.18/lib/python3.8/site-packages (from requests>=2.0.0->requests-oauthlib==1.3.1->-r /workspace/Portfolio_5_Cherry_Leaves_Mildew/requirements.txt (line 60)) (3.3.2)\n",
            "Requirement already satisfied: idna<4,>=2.5 in /home/gitpod/.pyenv/versions/3.8.18/lib/python3.8/site-packages (from requests>=2.0.0->requests-oauthlib==1.3.1->-r /workspace/Portfolio_5_Cherry_Leaves_Mildew/requirements.txt (line 60)) (3.6)\n",
            "Requirement already satisfied: urllib3<3,>=1.21.1 in /home/gitpod/.pyenv/versions/3.8.18/lib/python3.8/site-packages (from requests>=2.0.0->requests-oauthlib==1.3.1->-r /workspace/Portfolio_5_Cherry_Leaves_Mildew/requirements.txt (line 60)) (2.1.0)\n",
            "Requirement already satisfied: certifi>=2017.4.17 in /home/gitpod/.pyenv/versions/3.8.18/lib/python3.8/site-packages (from requests>=2.0.0->requests-oauthlib==1.3.1->-r /workspace/Portfolio_5_Cherry_Leaves_Mildew/requirements.txt (line 60)) (2023.11.17)\n",
            "Requirement already satisfied: platformdirs>=2.5 in /home/gitpod/.pyenv/versions/3.8.18/lib/python3.8/site-packages (from jupyter-core->nbformat==5.9.2->-r /workspace/Portfolio_5_Cherry_Leaves_Mildew/requirements.txt (line 39)) (4.1.0)\n"
          ]
        }
      ],
      "source": [
        "! pip install -r /workspace/Portfolio_5_Cherry_Leaves_Mildew/requirements.txt"
      ]
    },
    {
      "cell_type": "code",
      "execution_count": 2,
      "metadata": {},
      "outputs": [],
      "source": [
        "import numpy as np\n",
        "import os"
      ]
    },
    {
      "cell_type": "markdown",
      "metadata": {},
      "source": [
        "### Change working directory"
      ]
    },
    {
      "cell_type": "code",
      "execution_count": 3,
      "metadata": {},
      "outputs": [
        {
          "data": {
            "text/plain": [
              "'/workspace/Portfolio_5_Cherry_Leaves_Mildew/jupyter_notebooks'"
            ]
          },
          "execution_count": 3,
          "metadata": {},
          "output_type": "execute_result"
        }
      ],
      "source": [
        "current_dir = os.getcwd()\n",
        "current_dir"
      ]
    },
    {
      "cell_type": "code",
      "execution_count": 4,
      "metadata": {},
      "outputs": [
        {
          "name": "stdout",
          "output_type": "stream",
          "text": [
            "You set a new current directory\n"
          ]
        }
      ],
      "source": [
        "os.chdir('/workspace/Portfolio_5_Cherry_Leaves_Mildew')\n",
        "print(\"You set a new current directory\")"
      ]
    },
    {
      "cell_type": "code",
      "execution_count": 5,
      "metadata": {},
      "outputs": [
        {
          "data": {
            "text/plain": [
              "'/workspace/Portfolio_5_Cherry_Leaves_Mildew'"
            ]
          },
          "execution_count": 5,
          "metadata": {},
          "output_type": "execute_result"
        }
      ],
      "source": [
        "current_dir = os.getcwd()\n",
        "current_dir"
      ]
    },
    {
      "cell_type": "code",
      "execution_count": 6,
      "metadata": {},
      "outputs": [
        {
          "name": "stdout",
          "output_type": "stream",
          "text": [
            "Requirement already satisfied: kaggle==1.5.12 in /home/gitpod/.pyenv/versions/3.8.18/lib/python3.8/site-packages (1.5.12)\n",
            "Requirement already satisfied: six>=1.10 in /home/gitpod/.pyenv/versions/3.8.18/lib/python3.8/site-packages (from kaggle==1.5.12) (1.16.0)\n",
            "Requirement already satisfied: certifi in /home/gitpod/.pyenv/versions/3.8.18/lib/python3.8/site-packages (from kaggle==1.5.12) (2023.11.17)\n",
            "Requirement already satisfied: python-dateutil in /home/gitpod/.pyenv/versions/3.8.18/lib/python3.8/site-packages (from kaggle==1.5.12) (2.8.2)\n",
            "Requirement already satisfied: requests in /home/gitpod/.pyenv/versions/3.8.18/lib/python3.8/site-packages (from kaggle==1.5.12) (2.31.0)\n",
            "Requirement already satisfied: tqdm in /home/gitpod/.pyenv/versions/3.8.18/lib/python3.8/site-packages (from kaggle==1.5.12) (4.66.1)\n",
            "Requirement already satisfied: python-slugify in /home/gitpod/.pyenv/versions/3.8.18/lib/python3.8/site-packages (from kaggle==1.5.12) (8.0.2)\n",
            "Requirement already satisfied: urllib3 in /home/gitpod/.pyenv/versions/3.8.18/lib/python3.8/site-packages (from kaggle==1.5.12) (2.1.0)\n",
            "Requirement already satisfied: text-unidecode>=1.3 in /home/gitpod/.pyenv/versions/3.8.18/lib/python3.8/site-packages (from python-slugify->kaggle==1.5.12) (1.3)\n",
            "Requirement already satisfied: charset-normalizer<4,>=2 in /home/gitpod/.pyenv/versions/3.8.18/lib/python3.8/site-packages (from requests->kaggle==1.5.12) (3.3.2)\n",
            "Requirement already satisfied: idna<4,>=2.5 in /home/gitpod/.pyenv/versions/3.8.18/lib/python3.8/site-packages (from requests->kaggle==1.5.12) (3.6)\n",
            "Note: you may need to restart the kernel to use updated packages.\n"
          ]
        }
      ],
      "source": [
        "# install kaggle package\n",
        "%pip install kaggle==1.5.12"
      ]
    },
    {
      "cell_type": "markdown",
      "metadata": {},
      "source": [
        "Run the cell below **to change kaggle configuration directory to current working directory and permission of kaggle authentication json**"
      ]
    },
    {
      "cell_type": "code",
      "execution_count": 7,
      "metadata": {},
      "outputs": [],
      "source": [
        "os.environ['KAGGLE_CONFIG_DIR'] = os.getcwd()\n",
        "! chmod 600 kaggle.json"
      ]
    },
    {
      "cell_type": "markdown",
      "metadata": {},
      "source": [
        "Check if the DestinationFolder exists, removes it if it does, creates a new one, downloads the dataset, and then unzips it. It ensures that any existing data is removed before downloading the new dataset."
      ]
    },
    {
      "cell_type": "code",
      "execution_count": 8,
      "metadata": {},
      "outputs": [
        {
          "name": "stdout",
          "output_type": "stream",
          "text": [
            "Data folder already exists. Removing existing data...\n",
            "Downloading cherry-leaves.zip to inputs/cherry_leaves_dataset\n",
            " 89%|█████████████████████████████████▊    | 49.0M/55.0M [00:01<00:00, 23.7MB/s]\n",
            "100%|██████████████████████████████████████| 55.0M/55.0M [00:01<00:00, 28.9MB/s]\n"
          ]
        }
      ],
      "source": [
        "import os\n",
        "import shutil\n",
        "import zipfile\n",
        "\n",
        "# Define your Kaggle dataset path and destination folder\n",
        "KaggleDatasetPath = \"codeinstitute/cherry-leaves\"\n",
        "DestinationFolder = \"inputs/cherry_leaves_dataset\"\n",
        "\n",
        "# Check if the data folder already exists\n",
        "if os.path.exists(DestinationFolder):\n",
        "    print(\"Data folder already exists. Removing existing data...\")\n",
        "    # Remove existing data folder and its contents\n",
        "    shutil.rmtree(DestinationFolder)\n",
        "\n",
        "# Create the destination folder\n",
        "os.makedirs(DestinationFolder)\n",
        "\n",
        "# Download the dataset\n",
        "! kaggle datasets download -d {KaggleDatasetPath} -p {DestinationFolder}\n",
        "\n",
        "# Unzip the downloaded file and delete the zip file\n",
        "with zipfile.ZipFile(DestinationFolder + '/cherry-leaves.zip', 'r') as zip_ref:\n",
        "    zip_ref.extractall(DestinationFolder)\n",
        "\n",
        "os.remove(DestinationFolder + '/cherry-leaves.zip')\n"
      ]
    },
    {
      "cell_type": "markdown",
      "metadata": {},
      "source": [
        "---"
      ]
    },
    {
      "cell_type": "markdown",
      "metadata": {},
      "source": [
        "## Data Preparation"
      ]
    },
    {
      "cell_type": "markdown",
      "metadata": {},
      "source": [
        "---"
      ]
    },
    {
      "cell_type": "markdown",
      "metadata": {},
      "source": [
        "### Data cleaning"
      ]
    },
    {
      "cell_type": "markdown",
      "metadata": {},
      "source": [
        "Check and remove non images files"
      ]
    },
    {
      "cell_type": "code",
      "execution_count": 9,
      "metadata": {},
      "outputs": [],
      "source": [
        "def remove_non_image_file(my_data_dir):\n",
        "    image_extension = ('.png', '.jpg', '.jpeg')\n",
        "    folders = os.listdir(my_data_dir)\n",
        "    for folder in folders:\n",
        "        files = os.listdir(my_data_dir + '/' + folder)\n",
        "        # print(files)\n",
        "        i = []\n",
        "        j = []\n",
        "        for given_file in files:\n",
        "            if not given_file.lower().endswith(image_extension):\n",
        "                file_location = my_data_dir + '/' + folder + '/' + given_file\n",
        "                os.remove(file_location)\n",
        "                i.append(1)\n",
        "            else:\n",
        "                j.append(1)\n",
        "                pass\n",
        "        print(f\"Folder: {folder} - has image file\", len(j))\n",
        "        print(f\"Folder: {folder} - has non-image file\", len(i))\n"
      ]
    },
    {
      "cell_type": "code",
      "execution_count": 10,
      "metadata": {},
      "outputs": [
        {
          "name": "stdout",
          "output_type": "stream",
          "text": [
            "Folder: healthy - has image file 2104\n",
            "Folder: healthy - has non-image file 0\n",
            "Folder: powdery_mildew - has image file 2104\n",
            "Folder: powdery_mildew - has non-image file 0\n"
          ]
        }
      ],
      "source": [
        "remove_non_image_file(my_data_dir='inputs/cherry_leaves_dataset/cherry-leaves')\n"
      ]
    },
    {
      "cell_type": "markdown",
      "metadata": {},
      "source": [
        "Split train validation test set"
      ]
    },
    {
      "cell_type": "code",
      "execution_count": 11,
      "metadata": {},
      "outputs": [],
      "source": [
        "import os\n",
        "import shutil\n",
        "import random\n",
        "\n",
        "def split_train_validation_test_images(my_data_dir, train_set_ratio, validation_set_ratio, test_set_ratio):\n",
        "  \n",
        "  if train_set_ratio + validation_set_ratio + test_set_ratio != 1.0:\n",
        "    print(\"train_set_ratio + validation_set_ratio + test_set_ratio should sum 1.0\")\n",
        "    return\n",
        "\n",
        "  # gets classes labels\n",
        "  labels = os.listdir(my_data_dir) # it should get only the folder name\n",
        "  if 'test' in labels:\n",
        "    pass\n",
        "  else: \n",
        "    # create train, test folders with classess labels sub-folder\n",
        "    for folder in ['train','validation','test']:\n",
        "      for label in labels:\n",
        "        os.makedirs(name=my_data_dir+ '/' + folder + '/' + label)\n",
        "\n",
        "    for label in labels:\n",
        "\n",
        "      files = os.listdir(my_data_dir + '/' + label)\n",
        "      random.shuffle(files)\n",
        "\n",
        "      train_set_files_qty = int(len(files) * train_set_ratio)\n",
        "      validation_set_files_qty = int(len(files) * validation_set_ratio)\n",
        "\n",
        "      count = 1\n",
        "      for file_name in files:\n",
        "        if count <= train_set_files_qty:\n",
        "          # move given file to train set\n",
        "          shutil.move(my_data_dir + '/' + label + '/' + file_name,\n",
        "                      my_data_dir + '/train/' + label + '/' + file_name)\n",
        "          \n",
        "\n",
        "        elif count <= (train_set_files_qty + validation_set_files_qty ):\n",
        "          # move given file to validation set\n",
        "          shutil.move(my_data_dir + '/' + label + '/' + file_name,\n",
        "                      my_data_dir + '/validation/' + label + '/' + file_name)\n",
        "\n",
        "        else:\n",
        "          # move given file to test set\n",
        "          shutil.move(my_data_dir + '/' + label + '/' + file_name,\n",
        "                  my_data_dir + '/test/' +label + '/'+ file_name)\n",
        "          \n",
        "        count += 1\n",
        "\n",
        "      os.rmdir(my_data_dir + '/' + label)\n",
        "    "
      ]
    },
    {
      "cell_type": "markdown",
      "metadata": {},
      "source": [
        "Conventionally,\n",
        "\n",
        "* The training set is divided into 70% ratio of data.\n",
        "* The validation set is divided into 10% ratio of data.\n",
        "* The test set is divided into 20% ratio of data."
      ]
    },
    {
      "cell_type": "code",
      "execution_count": 12,
      "metadata": {},
      "outputs": [],
      "source": [
        "split_train_validation_test_images(my_data_dir = f\"inputs/cherry_leaves_dataset/cherry-leaves\",\n",
        "                        train_set_ratio = 0.70,\n",
        "                        validation_set_ratio=0.10,\n",
        "                        test_set_ratio=0.20\n",
        "                        )"
      ]
    },
    {
      "cell_type": "markdown",
      "metadata": {},
      "source": [
        "---"
      ]
    },
    {
      "cell_type": "markdown",
      "metadata": {},
      "source": [
        "## Conclusions"
      ]
    },
    {
      "cell_type": "markdown",
      "metadata": {},
      "source": [
        "---"
      ]
    },
    {
      "cell_type": "markdown",
      "metadata": {},
      "source": [
        "The data has been downloaded from Kaggle, underwent cleaning, and has now been organized into separate train, test, and validation folders, ready for further development and processing."
      ]
    }
  ],
  "metadata": {
    "accelerator": "GPU",
    "colab": {
      "name": "Data Practitioner Jupyter Notebook.ipynb",
      "provenance": [],
      "toc_visible": true
    },
    "interpreter": {
      "hash": "8b8334dab9339717f727a1deaf837b322d7a41c20d15cc86be99a8e69ceec8ce"
    },
    "kernelspec": {
      "display_name": "Python 3.8.12 64-bit ('3.8.12': pyenv)",
      "name": "python3"
    },
    "language_info": {
      "codemirror_mode": {
        "name": "ipython",
        "version": 3
      },
      "file_extension": ".py",
      "mimetype": "text/x-python",
      "name": "python",
      "nbconvert_exporter": "python",
      "pygments_lexer": "ipython3",
      "version": "3.8.18"
    },
    "orig_nbformat": 2
  },
  "nbformat": 4,
  "nbformat_minor": 2
}
