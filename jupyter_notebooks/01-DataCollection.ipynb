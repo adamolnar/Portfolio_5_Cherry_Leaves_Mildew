{
  "cells": [
    {
      "cell_type": "markdown",
      "metadata": {},
      "source": [
        "# **Data Collection**"
      ]
    },
    {
      "cell_type": "markdown",
      "metadata": {},
      "source": [
        "---"
      ]
    },
    {
      "cell_type": "markdown",
      "metadata": {},
      "source": [
        "## Objectives\n",
        "\n",
        "* Fetch data from Kaggle and prepare it for further processing.\n",
        "  - Clean data\n",
        "  - Split data\n",
        "\n",
        "## Inputs\n",
        "\n",
        "*   Kaggle JSON file - the authentication token. \n",
        "\n",
        "## Outputs\n",
        "\n",
        "* Generate Dataset: inputs/cherry_leaves_dataset/cherry-leaves\n",
        "\n",
        "\n",
        "## Comments | Insights | Conclusions\n",
        "\n",
        "* These steps are necessary to fetch the data, clean it, and divide it into subsets for the purposes of machine learning. \n",
        "\n",
        "* The next step will be Data Visualization to understand the data and discover patterns.\n"
      ]
    },
    {
      "cell_type": "markdown",
      "metadata": {},
      "source": [
        "---"
      ]
    },
    {
      "cell_type": "code",
      "execution_count": 2,
      "metadata": {},
      "outputs": [
        {
          "name": "stdout",
          "output_type": "stream",
          "text": [
            "Requirement already satisfied: absl-py==2.1.0 in /workspace/.pyenv_mirror/user/current/lib/python3.8/site-packages (from -r /workspace/Portfolio_5_Cherry_Leaves_Mildew/requirements.txt (line 1)) (2.1.0)\n",
            "Requirement already satisfied: altair==5.2.0 in /workspace/.pyenv_mirror/user/current/lib/python3.8/site-packages (from -r /workspace/Portfolio_5_Cherry_Leaves_Mildew/requirements.txt (line 2)) (5.2.0)\n",
            "Requirement already satisfied: astunparse==1.6.3 in /workspace/.pyenv_mirror/user/current/lib/python3.8/site-packages (from -r /workspace/Portfolio_5_Cherry_Leaves_Mildew/requirements.txt (line 3)) (1.6.3)\n",
            "Requirement already satisfied: attrs==23.2.0 in /workspace/.pyenv_mirror/user/current/lib/python3.8/site-packages (from -r /workspace/Portfolio_5_Cherry_Leaves_Mildew/requirements.txt (line 4)) (23.2.0)\n",
            "Requirement already satisfied: backports.zoneinfo==0.2.1 in /workspace/.pyenv_mirror/user/current/lib/python3.8/site-packages (from -r /workspace/Portfolio_5_Cherry_Leaves_Mildew/requirements.txt (line 5)) (0.2.1)\n",
            "Requirement already satisfied: blinker==1.7.0 in /workspace/.pyenv_mirror/user/current/lib/python3.8/site-packages (from -r /workspace/Portfolio_5_Cherry_Leaves_Mildew/requirements.txt (line 6)) (1.7.0)\n",
            "Requirement already satisfied: cachetools==5.3.2 in /workspace/.pyenv_mirror/user/current/lib/python3.8/site-packages (from -r /workspace/Portfolio_5_Cherry_Leaves_Mildew/requirements.txt (line 7)) (5.3.2)\n",
            "Requirement already satisfied: click==8.1.7 in /workspace/.pyenv_mirror/user/current/lib/python3.8/site-packages (from -r /workspace/Portfolio_5_Cherry_Leaves_Mildew/requirements.txt (line 8)) (8.1.7)\n",
            "Requirement already satisfied: contourpy==1.1.1 in /workspace/.pyenv_mirror/user/current/lib/python3.8/site-packages (from -r /workspace/Portfolio_5_Cherry_Leaves_Mildew/requirements.txt (line 9)) (1.1.1)\n",
            "Requirement already satisfied: cycler==0.12.1 in /workspace/.pyenv_mirror/user/current/lib/python3.8/site-packages (from -r /workspace/Portfolio_5_Cherry_Leaves_Mildew/requirements.txt (line 10)) (0.12.1)\n",
            "Requirement already satisfied: flatbuffers==23.5.26 in /workspace/.pyenv_mirror/user/current/lib/python3.8/site-packages (from -r /workspace/Portfolio_5_Cherry_Leaves_Mildew/requirements.txt (line 11)) (23.5.26)\n",
            "Requirement already satisfied: fonttools==4.47.2 in /workspace/.pyenv_mirror/user/current/lib/python3.8/site-packages (from -r /workspace/Portfolio_5_Cherry_Leaves_Mildew/requirements.txt (line 12)) (4.47.2)\n",
            "Requirement already satisfied: gast==0.4.0 in /workspace/.pyenv_mirror/user/current/lib/python3.8/site-packages (from -r /workspace/Portfolio_5_Cherry_Leaves_Mildew/requirements.txt (line 13)) (0.4.0)\n",
            "Requirement already satisfied: gitdb==4.0.11 in /workspace/.pyenv_mirror/user/current/lib/python3.8/site-packages (from -r /workspace/Portfolio_5_Cherry_Leaves_Mildew/requirements.txt (line 14)) (4.0.11)\n",
            "Requirement already satisfied: GitPython==3.1.41 in /workspace/.pyenv_mirror/user/current/lib/python3.8/site-packages (from -r /workspace/Portfolio_5_Cherry_Leaves_Mildew/requirements.txt (line 15)) (3.1.41)\n",
            "Requirement already satisfied: google-auth==2.27.0 in /workspace/.pyenv_mirror/user/current/lib/python3.8/site-packages (from -r /workspace/Portfolio_5_Cherry_Leaves_Mildew/requirements.txt (line 16)) (2.27.0)\n",
            "Requirement already satisfied: google-auth-oauthlib==1.0.0 in /workspace/.pyenv_mirror/user/current/lib/python3.8/site-packages (from -r /workspace/Portfolio_5_Cherry_Leaves_Mildew/requirements.txt (line 17)) (1.0.0)\n",
            "Requirement already satisfied: google-pasta==0.2.0 in /workspace/.pyenv_mirror/user/current/lib/python3.8/site-packages (from -r /workspace/Portfolio_5_Cherry_Leaves_Mildew/requirements.txt (line 18)) (0.2.0)\n",
            "Requirement already satisfied: grpcio==1.60.0 in /workspace/.pyenv_mirror/user/current/lib/python3.8/site-packages (from -r /workspace/Portfolio_5_Cherry_Leaves_Mildew/requirements.txt (line 19)) (1.60.0)\n",
            "Requirement already satisfied: h5py==3.10.0 in /workspace/.pyenv_mirror/user/current/lib/python3.8/site-packages (from -r /workspace/Portfolio_5_Cherry_Leaves_Mildew/requirements.txt (line 20)) (3.10.0)\n",
            "Requirement already satisfied: imageio==2.33.1 in /workspace/.pyenv_mirror/user/current/lib/python3.8/site-packages (from -r /workspace/Portfolio_5_Cherry_Leaves_Mildew/requirements.txt (line 21)) (2.33.1)\n",
            "Requirement already satisfied: importlib-resources==6.1.1 in /workspace/.pyenv_mirror/user/current/lib/python3.8/site-packages (from -r /workspace/Portfolio_5_Cherry_Leaves_Mildew/requirements.txt (line 22)) (6.1.1)\n",
            "Requirement already satisfied: install==1.3.5 in /workspace/.pyenv_mirror/user/current/lib/python3.8/site-packages (from -r /workspace/Portfolio_5_Cherry_Leaves_Mildew/requirements.txt (line 23)) (1.3.5)\n",
            "Requirement already satisfied: Jinja2==3.1.3 in /workspace/.pyenv_mirror/user/current/lib/python3.8/site-packages (from -r /workspace/Portfolio_5_Cherry_Leaves_Mildew/requirements.txt (line 24)) (3.1.3)\n",
            "Requirement already satisfied: joblib==1.3.2 in /workspace/.pyenv_mirror/user/current/lib/python3.8/site-packages (from -r /workspace/Portfolio_5_Cherry_Leaves_Mildew/requirements.txt (line 25)) (1.3.2)\n",
            "Requirement already satisfied: jsonschema==4.21.1 in /workspace/.pyenv_mirror/user/current/lib/python3.8/site-packages (from -r /workspace/Portfolio_5_Cherry_Leaves_Mildew/requirements.txt (line 26)) (4.21.1)\n",
            "Requirement already satisfied: jsonschema-specifications==2023.12.1 in /workspace/.pyenv_mirror/user/current/lib/python3.8/site-packages (from -r /workspace/Portfolio_5_Cherry_Leaves_Mildew/requirements.txt (line 27)) (2023.12.1)\n",
            "Requirement already satisfied: kaleido==0.2.1 in /workspace/.pyenv_mirror/user/current/lib/python3.8/site-packages (from -r /workspace/Portfolio_5_Cherry_Leaves_Mildew/requirements.txt (line 28)) (0.2.1)\n",
            "Requirement already satisfied: keras==2.13.1 in /workspace/.pyenv_mirror/user/current/lib/python3.8/site-packages (from -r /workspace/Portfolio_5_Cherry_Leaves_Mildew/requirements.txt (line 29)) (2.13.1)\n",
            "Requirement already satisfied: kiwisolver==1.4.5 in /workspace/.pyenv_mirror/user/current/lib/python3.8/site-packages (from -r /workspace/Portfolio_5_Cherry_Leaves_Mildew/requirements.txt (line 30)) (1.4.5)\n",
            "Requirement already satisfied: lazy_loader==0.3 in /workspace/.pyenv_mirror/user/current/lib/python3.8/site-packages (from -r /workspace/Portfolio_5_Cherry_Leaves_Mildew/requirements.txt (line 31)) (0.3)\n",
            "Requirement already satisfied: libclang==16.0.6 in /workspace/.pyenv_mirror/user/current/lib/python3.8/site-packages (from -r /workspace/Portfolio_5_Cherry_Leaves_Mildew/requirements.txt (line 32)) (16.0.6)\n",
            "Requirement already satisfied: Markdown==3.5.2 in /workspace/.pyenv_mirror/user/current/lib/python3.8/site-packages (from -r /workspace/Portfolio_5_Cherry_Leaves_Mildew/requirements.txt (line 33)) (3.5.2)\n",
            "Requirement already satisfied: markdown-it-py==3.0.0 in /workspace/.pyenv_mirror/user/current/lib/python3.8/site-packages (from -r /workspace/Portfolio_5_Cherry_Leaves_Mildew/requirements.txt (line 34)) (3.0.0)\n",
            "Requirement already satisfied: MarkupSafe==2.1.4 in /workspace/.pyenv_mirror/user/current/lib/python3.8/site-packages (from -r /workspace/Portfolio_5_Cherry_Leaves_Mildew/requirements.txt (line 35)) (2.1.4)\n",
            "Requirement already satisfied: matplotlib==3.7.4 in /workspace/.pyenv_mirror/user/current/lib/python3.8/site-packages (from -r /workspace/Portfolio_5_Cherry_Leaves_Mildew/requirements.txt (line 36)) (3.7.4)\n",
            "Requirement already satisfied: mdurl==0.1.2 in /workspace/.pyenv_mirror/user/current/lib/python3.8/site-packages (from -r /workspace/Portfolio_5_Cherry_Leaves_Mildew/requirements.txt (line 37)) (0.1.2)\n",
            "Requirement already satisfied: networkx==3.1 in /workspace/.pyenv_mirror/user/current/lib/python3.8/site-packages (from -r /workspace/Portfolio_5_Cherry_Leaves_Mildew/requirements.txt (line 38)) (3.1)\n",
            "Requirement already satisfied: numpy==1.24.4 in /workspace/.pyenv_mirror/user/current/lib/python3.8/site-packages (from -r /workspace/Portfolio_5_Cherry_Leaves_Mildew/requirements.txt (line 39)) (1.24.4)\n",
            "Requirement already satisfied: oauthlib==3.2.2 in /workspace/.pyenv_mirror/user/current/lib/python3.8/site-packages (from -r /workspace/Portfolio_5_Cherry_Leaves_Mildew/requirements.txt (line 40)) (3.2.2)\n",
            "Requirement already satisfied: opencv-python==4.9.0.80 in /workspace/.pyenv_mirror/user/current/lib/python3.8/site-packages (from -r /workspace/Portfolio_5_Cherry_Leaves_Mildew/requirements.txt (line 41)) (4.9.0.80)\n",
            "Requirement already satisfied: opencv-python-headless==4.9.0.80 in /workspace/.pyenv_mirror/user/current/lib/python3.8/site-packages (from -r /workspace/Portfolio_5_Cherry_Leaves_Mildew/requirements.txt (line 42)) (4.9.0.80)\n",
            "Requirement already satisfied: opt-einsum==3.3.0 in /workspace/.pyenv_mirror/user/current/lib/python3.8/site-packages (from -r /workspace/Portfolio_5_Cherry_Leaves_Mildew/requirements.txt (line 43)) (3.3.0)\n",
            "Requirement already satisfied: pandas==2.0.3 in /workspace/.pyenv_mirror/user/current/lib/python3.8/site-packages (from -r /workspace/Portfolio_5_Cherry_Leaves_Mildew/requirements.txt (line 44)) (2.0.3)\n",
            "Requirement already satisfied: pillow==10.2.0 in /workspace/.pyenv_mirror/user/current/lib/python3.8/site-packages (from -r /workspace/Portfolio_5_Cherry_Leaves_Mildew/requirements.txt (line 45)) (10.2.0)\n",
            "Requirement already satisfied: pkgutil_resolve_name==1.3.10 in /workspace/.pyenv_mirror/user/current/lib/python3.8/site-packages (from -r /workspace/Portfolio_5_Cherry_Leaves_Mildew/requirements.txt (line 46)) (1.3.10)\n",
            "Requirement already satisfied: plotly==5.18.0 in /workspace/.pyenv_mirror/user/current/lib/python3.8/site-packages (from -r /workspace/Portfolio_5_Cherry_Leaves_Mildew/requirements.txt (line 47)) (5.18.0)\n",
            "Requirement already satisfied: protobuf==4.25.2 in /workspace/.pyenv_mirror/user/current/lib/python3.8/site-packages (from -r /workspace/Portfolio_5_Cherry_Leaves_Mildew/requirements.txt (line 48)) (4.25.2)\n",
            "Requirement already satisfied: pyarrow==15.0.0 in /workspace/.pyenv_mirror/user/current/lib/python3.8/site-packages (from -r /workspace/Portfolio_5_Cherry_Leaves_Mildew/requirements.txt (line 49)) (15.0.0)\n",
            "Requirement already satisfied: pyasn1==0.5.1 in /workspace/.pyenv_mirror/user/current/lib/python3.8/site-packages (from -r /workspace/Portfolio_5_Cherry_Leaves_Mildew/requirements.txt (line 50)) (0.5.1)\n",
            "Requirement already satisfied: pyasn1-modules==0.3.0 in /workspace/.pyenv_mirror/user/current/lib/python3.8/site-packages (from -r /workspace/Portfolio_5_Cherry_Leaves_Mildew/requirements.txt (line 51)) (0.3.0)\n",
            "Requirement already satisfied: pydeck==0.8.1b0 in /workspace/.pyenv_mirror/user/current/lib/python3.8/site-packages (from -r /workspace/Portfolio_5_Cherry_Leaves_Mildew/requirements.txt (line 52)) (0.8.1b0)\n",
            "Requirement already satisfied: pyparsing==3.1.1 in /workspace/.pyenv_mirror/user/current/lib/python3.8/site-packages (from -r /workspace/Portfolio_5_Cherry_Leaves_Mildew/requirements.txt (line 53)) (3.1.1)\n",
            "Requirement already satisfied: pytz==2023.3.post1 in /workspace/.pyenv_mirror/user/current/lib/python3.8/site-packages (from -r /workspace/Portfolio_5_Cherry_Leaves_Mildew/requirements.txt (line 54)) (2023.3.post1)\n",
            "Requirement already satisfied: PyWavelets==1.4.1 in /workspace/.pyenv_mirror/user/current/lib/python3.8/site-packages (from -r /workspace/Portfolio_5_Cherry_Leaves_Mildew/requirements.txt (line 55)) (1.4.1)\n",
            "Requirement already satisfied: referencing==0.33.0 in /workspace/.pyenv_mirror/user/current/lib/python3.8/site-packages (from -r /workspace/Portfolio_5_Cherry_Leaves_Mildew/requirements.txt (line 56)) (0.33.0)\n",
            "Requirement already satisfied: requests-oauthlib==1.3.1 in /workspace/.pyenv_mirror/user/current/lib/python3.8/site-packages (from -r /workspace/Portfolio_5_Cherry_Leaves_Mildew/requirements.txt (line 57)) (1.3.1)\n",
            "Requirement already satisfied: rich==13.7.0 in /workspace/.pyenv_mirror/user/current/lib/python3.8/site-packages (from -r /workspace/Portfolio_5_Cherry_Leaves_Mildew/requirements.txt (line 58)) (13.7.0)\n",
            "Requirement already satisfied: rpds-py==0.17.1 in /workspace/.pyenv_mirror/user/current/lib/python3.8/site-packages (from -r /workspace/Portfolio_5_Cherry_Leaves_Mildew/requirements.txt (line 59)) (0.17.1)\n",
            "Requirement already satisfied: rsa==4.9 in /workspace/.pyenv_mirror/user/current/lib/python3.8/site-packages (from -r /workspace/Portfolio_5_Cherry_Leaves_Mildew/requirements.txt (line 60)) (4.9)\n",
            "Requirement already satisfied: scikit-image==0.21.0 in /workspace/.pyenv_mirror/user/current/lib/python3.8/site-packages (from -r /workspace/Portfolio_5_Cherry_Leaves_Mildew/requirements.txt (line 61)) (0.21.0)\n",
            "Requirement already satisfied: scipy==1.10.1 in /workspace/.pyenv_mirror/user/current/lib/python3.8/site-packages (from -r /workspace/Portfolio_5_Cherry_Leaves_Mildew/requirements.txt (line 62)) (1.10.1)\n",
            "Requirement already satisfied: seaborn==0.13.2 in /workspace/.pyenv_mirror/user/current/lib/python3.8/site-packages (from -r /workspace/Portfolio_5_Cherry_Leaves_Mildew/requirements.txt (line 63)) (0.13.2)\n",
            "Requirement already satisfied: smmap==5.0.1 in /workspace/.pyenv_mirror/user/current/lib/python3.8/site-packages (from -r /workspace/Portfolio_5_Cherry_Leaves_Mildew/requirements.txt (line 64)) (5.0.1)\n",
            "Requirement already satisfied: streamlit==1.30.0 in /workspace/.pyenv_mirror/user/current/lib/python3.8/site-packages (from -r /workspace/Portfolio_5_Cherry_Leaves_Mildew/requirements.txt (line 65)) (1.30.0)\n",
            "Requirement already satisfied: tenacity==8.2.3 in /workspace/.pyenv_mirror/user/current/lib/python3.8/site-packages (from -r /workspace/Portfolio_5_Cherry_Leaves_Mildew/requirements.txt (line 66)) (8.2.3)\n",
            "Requirement already satisfied: tensorboard==2.13.0 in /workspace/.pyenv_mirror/user/current/lib/python3.8/site-packages (from -r /workspace/Portfolio_5_Cherry_Leaves_Mildew/requirements.txt (line 67)) (2.13.0)\n",
            "Requirement already satisfied: tensorboard-data-server==0.7.2 in /workspace/.pyenv_mirror/user/current/lib/python3.8/site-packages (from -r /workspace/Portfolio_5_Cherry_Leaves_Mildew/requirements.txt (line 68)) (0.7.2)\n",
            "Requirement already satisfied: tensorflow==2.13.1 in /workspace/.pyenv_mirror/user/current/lib/python3.8/site-packages (from -r /workspace/Portfolio_5_Cherry_Leaves_Mildew/requirements.txt (line 69)) (2.13.1)\n",
            "Requirement already satisfied: tensorflow-estimator==2.13.0 in /workspace/.pyenv_mirror/user/current/lib/python3.8/site-packages (from -r /workspace/Portfolio_5_Cherry_Leaves_Mildew/requirements.txt (line 70)) (2.13.0)\n",
            "Requirement already satisfied: tensorflow-io-gcs-filesystem==0.34.0 in /workspace/.pyenv_mirror/user/current/lib/python3.8/site-packages (from -r /workspace/Portfolio_5_Cherry_Leaves_Mildew/requirements.txt (line 71)) (0.34.0)\n",
            "Requirement already satisfied: termcolor==2.4.0 in /workspace/.pyenv_mirror/user/current/lib/python3.8/site-packages (from -r /workspace/Portfolio_5_Cherry_Leaves_Mildew/requirements.txt (line 72)) (2.4.0)\n",
            "Requirement already satisfied: tifffile==2023.7.10 in /workspace/.pyenv_mirror/user/current/lib/python3.8/site-packages (from -r /workspace/Portfolio_5_Cherry_Leaves_Mildew/requirements.txt (line 73)) (2023.7.10)\n",
            "Requirement already satisfied: toml==0.10.2 in /workspace/.pyenv_mirror/user/current/lib/python3.8/site-packages (from -r /workspace/Portfolio_5_Cherry_Leaves_Mildew/requirements.txt (line 74)) (0.10.2)\n",
            "Requirement already satisfied: toolz==0.12.1 in /workspace/.pyenv_mirror/user/current/lib/python3.8/site-packages (from -r /workspace/Portfolio_5_Cherry_Leaves_Mildew/requirements.txt (line 75)) (0.12.1)\n",
            "Requirement already satisfied: typing_extensions==4.5.0 in /workspace/.pyenv_mirror/user/current/lib/python3.8/site-packages (from -r /workspace/Portfolio_5_Cherry_Leaves_Mildew/requirements.txt (line 76)) (4.5.0)\n",
            "Requirement already satisfied: tzdata==2023.4 in /workspace/.pyenv_mirror/user/current/lib/python3.8/site-packages (from -r /workspace/Portfolio_5_Cherry_Leaves_Mildew/requirements.txt (line 77)) (2023.4)\n",
            "Requirement already satisfied: tzlocal==5.2 in /workspace/.pyenv_mirror/user/current/lib/python3.8/site-packages (from -r /workspace/Portfolio_5_Cherry_Leaves_Mildew/requirements.txt (line 78)) (5.2)\n",
            "Requirement already satisfied: validators==0.22.0 in /workspace/.pyenv_mirror/user/current/lib/python3.8/site-packages (from -r /workspace/Portfolio_5_Cherry_Leaves_Mildew/requirements.txt (line 79)) (0.22.0)\n",
            "Requirement already satisfied: watchdog==3.0.0 in /workspace/.pyenv_mirror/user/current/lib/python3.8/site-packages (from -r /workspace/Portfolio_5_Cherry_Leaves_Mildew/requirements.txt (line 80)) (3.0.0)\n",
            "Requirement already satisfied: Werkzeug==3.0.1 in /workspace/.pyenv_mirror/user/current/lib/python3.8/site-packages (from -r /workspace/Portfolio_5_Cherry_Leaves_Mildew/requirements.txt (line 81)) (3.0.1)\n",
            "Requirement already satisfied: wrapt==1.16.0 in /workspace/.pyenv_mirror/user/current/lib/python3.8/site-packages (from -r /workspace/Portfolio_5_Cherry_Leaves_Mildew/requirements.txt (line 82)) (1.16.0)\n",
            "Requirement already satisfied: packaging in /home/gitpod/.pyenv/versions/3.8.18/lib/python3.8/site-packages (from altair==5.2.0->-r /workspace/Portfolio_5_Cherry_Leaves_Mildew/requirements.txt (line 2)) (23.2)\n",
            "Requirement already satisfied: wheel<1.0,>=0.23.0 in /workspace/.pyenv_mirror/user/current/lib/python3.8/site-packages (from astunparse==1.6.3->-r /workspace/Portfolio_5_Cherry_Leaves_Mildew/requirements.txt (line 3)) (0.42.0)\n",
            "Requirement already satisfied: six<2.0,>=1.6.1 in /home/gitpod/.pyenv/versions/3.8.18/lib/python3.8/site-packages (from astunparse==1.6.3->-r /workspace/Portfolio_5_Cherry_Leaves_Mildew/requirements.txt (line 3)) (1.16.0)\n",
            "Requirement already satisfied: zipp>=3.1.0 in /home/gitpod/.pyenv/versions/3.8.18/lib/python3.8/site-packages (from importlib-resources==6.1.1->-r /workspace/Portfolio_5_Cherry_Leaves_Mildew/requirements.txt (line 22)) (3.17.0)\n",
            "Requirement already satisfied: importlib-metadata>=4.4 in /home/gitpod/.pyenv/versions/3.8.18/lib/python3.8/site-packages (from Markdown==3.5.2->-r /workspace/Portfolio_5_Cherry_Leaves_Mildew/requirements.txt (line 33)) (7.0.1)\n",
            "Requirement already satisfied: python-dateutil>=2.7 in /home/gitpod/.pyenv/versions/3.8.18/lib/python3.8/site-packages (from matplotlib==3.7.4->-r /workspace/Portfolio_5_Cherry_Leaves_Mildew/requirements.txt (line 36)) (2.8.2)\n",
            "Requirement already satisfied: requests>=2.0.0 in /home/gitpod/.pyenv/versions/3.8.18/lib/python3.8/site-packages (from requests-oauthlib==1.3.1->-r /workspace/Portfolio_5_Cherry_Leaves_Mildew/requirements.txt (line 57)) (2.31.0)\n",
            "Requirement already satisfied: pygments<3.0.0,>=2.13.0 in /home/gitpod/.pyenv/versions/3.8.18/lib/python3.8/site-packages (from rich==13.7.0->-r /workspace/Portfolio_5_Cherry_Leaves_Mildew/requirements.txt (line 58)) (2.17.2)\n",
            "Requirement already satisfied: tornado<7,>=6.0.3 in /home/gitpod/.pyenv/versions/3.8.18/lib/python3.8/site-packages (from streamlit==1.30.0->-r /workspace/Portfolio_5_Cherry_Leaves_Mildew/requirements.txt (line 65)) (6.4)\n",
            "Requirement already satisfied: setuptools>=41.0.0 in /home/gitpod/.pyenv/versions/3.8.18/lib/python3.8/site-packages (from tensorboard==2.13.0->-r /workspace/Portfolio_5_Cherry_Leaves_Mildew/requirements.txt (line 67)) (56.0.0)\n",
            "INFO: pip is looking at multiple versions of tensorflow to determine which version is compatible with other requirements. This could take a while.\n",
            "Collecting tensorboard==2.13.0 (from -r /workspace/Portfolio_5_Cherry_Leaves_Mildew/requirements.txt (line 67))\n",
            "  Using cached tensorboard-2.13.0-py3-none-any.whl (5.6 MB)\n",
            "Collecting streamlit==1.30.0 (from -r /workspace/Portfolio_5_Cherry_Leaves_Mildew/requirements.txt (line 65))\n",
            "  Using cached streamlit-1.30.0-py2.py3-none-any.whl.metadata (8.2 kB)\n",
            "Collecting seaborn==0.13.2 (from -r /workspace/Portfolio_5_Cherry_Leaves_Mildew/requirements.txt (line 63))\n",
            "  Using cached seaborn-0.13.2-py3-none-any.whl.metadata (5.4 kB)\n",
            "INFO: pip is still looking at multiple versions of tensorflow to determine which version is compatible with other requirements. This could take a while.\n",
            "Collecting scipy==1.10.1 (from -r /workspace/Portfolio_5_Cherry_Leaves_Mildew/requirements.txt (line 62))\n",
            "  Using cached scipy-1.10.1-cp38-cp38-manylinux_2_17_x86_64.manylinux2014_x86_64.whl (34.5 MB)\n",
            "INFO: This is taking longer than usual. You might need to provide the dependency resolver with stricter constraints to reduce runtime. See https://pip.pypa.io/warnings/backtracking for guidance. If you want to abort this run, press Ctrl + C.\n",
            "Collecting scikit-image==0.21.0 (from -r /workspace/Portfolio_5_Cherry_Leaves_Mildew/requirements.txt (line 61))\n",
            "  Using cached scikit_image-0.21.0-cp38-cp38-manylinux_2_17_x86_64.manylinux2014_x86_64.whl.metadata (14 kB)\n",
            "Collecting PyWavelets==1.4.1 (from -r /workspace/Portfolio_5_Cherry_Leaves_Mildew/requirements.txt (line 55))\n",
            "  Using cached PyWavelets-1.4.1-cp38-cp38-manylinux_2_17_x86_64.manylinux2014_x86_64.whl (6.9 MB)\n",
            "Collecting pydeck==0.8.1b0 (from -r /workspace/Portfolio_5_Cherry_Leaves_Mildew/requirements.txt (line 52))\n",
            "  Using cached pydeck-0.8.1b0-py2.py3-none-any.whl (4.8 MB)\n",
            "Collecting pyarrow==15.0.0 (from -r /workspace/Portfolio_5_Cherry_Leaves_Mildew/requirements.txt (line 49))\n",
            "  Using cached pyarrow-15.0.0-cp38-cp38-manylinux_2_28_x86_64.whl.metadata (3.0 kB)\n",
            "Collecting pandas==2.0.3 (from -r /workspace/Portfolio_5_Cherry_Leaves_Mildew/requirements.txt (line 44))\n",
            "  Using cached pandas-2.0.3-cp38-cp38-manylinux_2_17_x86_64.manylinux2014_x86_64.whl.metadata (18 kB)\n",
            "Collecting opt-einsum==3.3.0 (from -r /workspace/Portfolio_5_Cherry_Leaves_Mildew/requirements.txt (line 43))\n",
            "  Using cached opt_einsum-3.3.0-py3-none-any.whl (65 kB)\n",
            "Collecting opencv-python-headless==4.9.0.80 (from -r /workspace/Portfolio_5_Cherry_Leaves_Mildew/requirements.txt (line 42))\n",
            "  Using cached opencv_python_headless-4.9.0.80-cp37-abi3-manylinux_2_17_x86_64.manylinux2014_x86_64.whl.metadata (20 kB)\n",
            "Collecting opencv-python==4.9.0.80 (from -r /workspace/Portfolio_5_Cherry_Leaves_Mildew/requirements.txt (line 41))\n",
            "  Using cached opencv_python-4.9.0.80-cp37-abi3-manylinux_2_17_x86_64.manylinux2014_x86_64.whl.metadata (20 kB)\n",
            "Collecting matplotlib==3.7.4 (from -r /workspace/Portfolio_5_Cherry_Leaves_Mildew/requirements.txt (line 36))\n",
            "  Using cached matplotlib-3.7.4-cp38-cp38-manylinux_2_12_x86_64.manylinux2010_x86_64.whl.metadata (5.7 kB)\n",
            "Collecting imageio==2.33.1 (from -r /workspace/Portfolio_5_Cherry_Leaves_Mildew/requirements.txt (line 21))\n",
            "  Using cached imageio-2.33.1-py3-none-any.whl.metadata (4.9 kB)\n",
            "Collecting h5py==3.10.0 (from -r /workspace/Portfolio_5_Cherry_Leaves_Mildew/requirements.txt (line 20))\n",
            "  Using cached h5py-3.10.0-cp38-cp38-manylinux_2_17_x86_64.manylinux2014_x86_64.whl.metadata (2.5 kB)\n",
            "Collecting contourpy==1.1.1 (from -r /workspace/Portfolio_5_Cherry_Leaves_Mildew/requirements.txt (line 9))\n",
            "  Using cached contourpy-1.1.1-cp38-cp38-manylinux_2_17_x86_64.manylinux2014_x86_64.whl.metadata (5.9 kB)\n",
            "Collecting altair==5.2.0 (from -r /workspace/Portfolio_5_Cherry_Leaves_Mildew/requirements.txt (line 2))\n",
            "  Downloading altair-5.2.0-py3-none-any.whl.metadata (8.7 kB)\n",
            "\u001b[31mERROR: Exception:\n",
            "Traceback (most recent call last):\n",
            "  File \"/workspace/.pyenv_mirror/user/current/lib/python3.8/site-packages/pip/_internal/cli/base_command.py\", line 180, in exc_logging_wrapper\n",
            "    status = run_func(*args)\n",
            "  File \"/workspace/.pyenv_mirror/user/current/lib/python3.8/site-packages/pip/_internal/cli/req_command.py\", line 245, in wrapper\n",
            "    return func(self, options, args)\n",
            "  File \"/workspace/.pyenv_mirror/user/current/lib/python3.8/site-packages/pip/_internal/commands/install.py\", line 377, in run\n",
            "    requirement_set = resolver.resolve(\n",
            "  File \"/workspace/.pyenv_mirror/user/current/lib/python3.8/site-packages/pip/_internal/resolution/resolvelib/resolver.py\", line 95, in resolve\n",
            "    result = self._result = resolver.resolve(\n",
            "  File \"/workspace/.pyenv_mirror/user/current/lib/python3.8/site-packages/pip/_vendor/resolvelib/resolvers.py\", line 546, in resolve\n",
            "    state = resolution.resolve(requirements, max_rounds=max_rounds)\n",
            "  File \"/workspace/.pyenv_mirror/user/current/lib/python3.8/site-packages/pip/_vendor/resolvelib/resolvers.py\", line 457, in resolve\n",
            "    raise ResolutionTooDeep(max_rounds)\n",
            "pip._vendor.resolvelib.resolvers.ResolutionTooDeep: 200000\u001b[0m\u001b[31m\n",
            "\u001b[0m"
          ]
        }
      ],
      "source": [
        "! pip install -r /workspace/Portfolio_5_Cherry_Leaves_Mildew/requirements.txt"
      ]
    },
    {
      "cell_type": "code",
      "execution_count": 29,
      "metadata": {},
      "outputs": [],
      "source": [
        "import numpy as np\n",
        "import os"
      ]
    },
    {
      "cell_type": "markdown",
      "metadata": {},
      "source": [
        "### Change working directory"
      ]
    },
    {
      "cell_type": "code",
      "execution_count": 30,
      "metadata": {},
      "outputs": [
        {
          "data": {
            "text/plain": [
              "'/workspace/Portfolio_5_Cherry_Leaves_Mildew'"
            ]
          },
          "execution_count": 30,
          "metadata": {},
          "output_type": "execute_result"
        }
      ],
      "source": [
        "current_dir = os.getcwd()\n",
        "current_dir"
      ]
    },
    {
      "cell_type": "code",
      "execution_count": 31,
      "metadata": {},
      "outputs": [
        {
          "name": "stdout",
          "output_type": "stream",
          "text": [
            "You set a new current directory\n"
          ]
        }
      ],
      "source": [
        "os.chdir('/workspace/Portfolio_5_Cherry_Leaves_Mildew')\n",
        "print(\"You set a new current directory\")"
      ]
    },
    {
      "cell_type": "code",
      "execution_count": 32,
      "metadata": {},
      "outputs": [
        {
          "data": {
            "text/plain": [
              "'/workspace/Portfolio_5_Cherry_Leaves_Mildew'"
            ]
          },
          "execution_count": 32,
          "metadata": {},
          "output_type": "execute_result"
        }
      ],
      "source": [
        "current_dir = os.getcwd()\n",
        "current_dir"
      ]
    },
    {
      "cell_type": "code",
      "execution_count": 33,
      "metadata": {},
      "outputs": [
        {
          "name": "stdout",
          "output_type": "stream",
          "text": [
            "Requirement already satisfied: kaggle==1.5.12 in /home/gitpod/.pyenv/versions/3.8.18/lib/python3.8/site-packages (1.5.12)\n",
            "Requirement already satisfied: six>=1.10 in /home/gitpod/.pyenv/versions/3.8.18/lib/python3.8/site-packages (from kaggle==1.5.12) (1.16.0)\n",
            "Requirement already satisfied: certifi in /home/gitpod/.pyenv/versions/3.8.18/lib/python3.8/site-packages (from kaggle==1.5.12) (2023.11.17)\n",
            "Requirement already satisfied: python-dateutil in /home/gitpod/.pyenv/versions/3.8.18/lib/python3.8/site-packages (from kaggle==1.5.12) (2.8.2)\n",
            "Requirement already satisfied: requests in /home/gitpod/.pyenv/versions/3.8.18/lib/python3.8/site-packages (from kaggle==1.5.12) (2.31.0)\n",
            "Requirement already satisfied: tqdm in /home/gitpod/.pyenv/versions/3.8.18/lib/python3.8/site-packages (from kaggle==1.5.12) (4.66.1)\n",
            "Requirement already satisfied: python-slugify in /home/gitpod/.pyenv/versions/3.8.18/lib/python3.8/site-packages (from kaggle==1.5.12) (8.0.2)\n",
            "Requirement already satisfied: urllib3 in /home/gitpod/.pyenv/versions/3.8.18/lib/python3.8/site-packages (from kaggle==1.5.12) (2.1.0)\n",
            "Requirement already satisfied: text-unidecode>=1.3 in /home/gitpod/.pyenv/versions/3.8.18/lib/python3.8/site-packages (from python-slugify->kaggle==1.5.12) (1.3)\n",
            "Requirement already satisfied: charset-normalizer<4,>=2 in /home/gitpod/.pyenv/versions/3.8.18/lib/python3.8/site-packages (from requests->kaggle==1.5.12) (3.3.2)\n",
            "Requirement already satisfied: idna<4,>=2.5 in /home/gitpod/.pyenv/versions/3.8.18/lib/python3.8/site-packages (from requests->kaggle==1.5.12) (3.6)\n",
            "Note: you may need to restart the kernel to use updated packages.\n"
          ]
        }
      ],
      "source": [
        "# install kaggle package\n",
        "%pip install kaggle==1.5.12"
      ]
    },
    {
      "cell_type": "markdown",
      "metadata": {},
      "source": [
        "Run the cell below **to change kaggle configuration directory to current working directory and permission of kaggle authentication json**"
      ]
    },
    {
      "cell_type": "code",
      "execution_count": 34,
      "metadata": {},
      "outputs": [],
      "source": [
        "os.environ['KAGGLE_CONFIG_DIR'] = os.getcwd()\n",
        "! chmod 600 kaggle.json"
      ]
    },
    {
      "cell_type": "markdown",
      "metadata": {},
      "source": [
        "Check if the DestinationFolder exists, removes it if it does, creates a new one, downloads the dataset, and then unzips it. It ensures that any existing data is removed before downloading the new dataset."
      ]
    },
    {
      "cell_type": "code",
      "execution_count": 53,
      "metadata": {},
      "outputs": [
        {
          "name": "stdout",
          "output_type": "stream",
          "text": [
            "Data folder already exists. Removing existing data...\n",
            "Downloading cherry-leaves.zip to inputs/cherry_leaves_dataset\n",
            "100%|█████████████████████████████████████▉| 55.0M/55.0M [00:01<00:00, 44.0MB/s]\n",
            "100%|██████████████████████████████████████| 55.0M/55.0M [00:01<00:00, 31.8MB/s]\n"
          ]
        }
      ],
      "source": [
        "import os\n",
        "import shutil\n",
        "import zipfile\n",
        "\n",
        "# Define your Kaggle dataset path and destination folder\n",
        "KaggleDatasetPath = \"codeinstitute/cherry-leaves\"\n",
        "DestinationFolder = \"inputs/cherry_leaves_dataset\"\n",
        "\n",
        "# Check if the data folder already exists\n",
        "if os.path.exists(DestinationFolder):\n",
        "    print(\"Data folder already exists. Removing existing data...\")\n",
        "    # Remove existing data folder and its contents\n",
        "    shutil.rmtree(DestinationFolder)\n",
        "\n",
        "# Create the destination folder\n",
        "os.makedirs(DestinationFolder)\n",
        "\n",
        "# Download the dataset\n",
        "! kaggle datasets download -d {KaggleDatasetPath} -p {DestinationFolder}\n",
        "\n",
        "# Unzip the downloaded file and delete the zip file\n",
        "with zipfile.ZipFile(DestinationFolder + '/cherry-leaves.zip', 'r') as zip_ref:\n",
        "    zip_ref.extractall(DestinationFolder)\n",
        "\n",
        "os.remove(DestinationFolder + '/cherry-leaves.zip')\n"
      ]
    },
    {
      "cell_type": "markdown",
      "metadata": {},
      "source": [
        "---"
      ]
    },
    {
      "cell_type": "markdown",
      "metadata": {},
      "source": [
        "## Data Preparation"
      ]
    },
    {
      "cell_type": "markdown",
      "metadata": {},
      "source": [
        "---"
      ]
    },
    {
      "cell_type": "markdown",
      "metadata": {},
      "source": [
        "### Data cleaning"
      ]
    },
    {
      "cell_type": "markdown",
      "metadata": {},
      "source": [
        "Check and remove non images files"
      ]
    },
    {
      "cell_type": "code",
      "execution_count": 54,
      "metadata": {},
      "outputs": [],
      "source": [
        "def remove_non_image_file(my_data_dir):\n",
        "    image_extension = ('.png', '.jpg', '.jpeg')\n",
        "    folders = os.listdir(my_data_dir)\n",
        "    for folder in folders:\n",
        "        files = os.listdir(my_data_dir + '/' + folder)\n",
        "        # print(files)\n",
        "        i = []\n",
        "        j = []\n",
        "        for given_file in files:\n",
        "            if not given_file.lower().endswith(image_extension):\n",
        "                file_location = my_data_dir + '/' + folder + '/' + given_file\n",
        "                os.remove(file_location)  # remove non image file\n",
        "                i.append(1)\n",
        "            else:\n",
        "                j.append(1)\n",
        "                pass\n",
        "        print(f\"Folder: {folder} - has image file\", len(j))\n",
        "        print(f\"Folder: {folder} - has non-image file\", len(i))\n"
      ]
    },
    {
      "cell_type": "code",
      "execution_count": 55,
      "metadata": {},
      "outputs": [
        {
          "name": "stdout",
          "output_type": "stream",
          "text": [
            "Folder: healthy - has image file 2104\n",
            "Folder: healthy - has non-image file 0\n",
            "Folder: powdery_mildew - has image file 2104\n",
            "Folder: powdery_mildew - has non-image file 0\n"
          ]
        }
      ],
      "source": [
        "remove_non_image_file(my_data_dir='inputs/cherry_leaves_dataset/cherry-leaves')\n"
      ]
    },
    {
      "cell_type": "markdown",
      "metadata": {},
      "source": [
        "Split train validation test set"
      ]
    },
    {
      "cell_type": "code",
      "execution_count": 56,
      "metadata": {},
      "outputs": [],
      "source": [
        "import os\n",
        "import shutil\n",
        "import random\n",
        "import joblib\n",
        "\n",
        "def split_train_validation_test_images(my_data_dir, train_set_ratio, validation_set_ratio, test_set_ratio):\n",
        "  \n",
        "  if train_set_ratio + validation_set_ratio + test_set_ratio != 1.0:\n",
        "    print(\"train_set_ratio + validation_set_ratio + test_set_ratio should sum 1.0\")\n",
        "    return\n",
        "\n",
        "  # gets classes labels\n",
        "  labels = os.listdir(my_data_dir) # it should get only the folder name\n",
        "  if 'test' in labels:\n",
        "    pass\n",
        "  else: \n",
        "    # create train, test folders with classess labels sub-folder\n",
        "    for folder in ['train','validation','test']:\n",
        "      for label in labels:\n",
        "        os.makedirs(name=my_data_dir+ '/' + folder + '/' + label)\n",
        "\n",
        "    for label in labels:\n",
        "\n",
        "      files = os.listdir(my_data_dir + '/' + label)\n",
        "      random.shuffle(files)\n",
        "\n",
        "      train_set_files_qty = int(len(files) * train_set_ratio)\n",
        "      validation_set_files_qty = int(len(files) * validation_set_ratio)\n",
        "\n",
        "      count = 1\n",
        "      for file_name in files:\n",
        "        if count <= train_set_files_qty:\n",
        "          # move given file to train set\n",
        "          shutil.move(my_data_dir + '/' + label + '/' + file_name,\n",
        "                      my_data_dir + '/train/' + label + '/' + file_name)\n",
        "          \n",
        "\n",
        "        elif count <= (train_set_files_qty + validation_set_files_qty ):\n",
        "          # move given file to validation set\n",
        "          shutil.move(my_data_dir + '/' + label + '/' + file_name,\n",
        "                      my_data_dir + '/validation/' + label + '/' + file_name)\n",
        "\n",
        "        else:\n",
        "          # move given file to test set\n",
        "          shutil.move(my_data_dir + '/' + label + '/' + file_name,\n",
        "                  my_data_dir + '/test/' +label + '/'+ file_name)\n",
        "          \n",
        "        count += 1\n",
        "\n",
        "      os.rmdir(my_data_dir + '/' + label)\n",
        "    "
      ]
    },
    {
      "cell_type": "markdown",
      "metadata": {},
      "source": [
        "Conventionally,\n",
        "\n",
        "* The training set is divided into 70% ratio of data.\n",
        "* The validation set is divided into 10% ratio of data.\n",
        "* The test set is divided into 20% ratio of data."
      ]
    },
    {
      "cell_type": "code",
      "execution_count": 57,
      "metadata": {},
      "outputs": [],
      "source": [
        "split_train_validation_test_images(my_data_dir = f\"inputs/cherry_leaves_dataset/cherry-leaves\",\n",
        "                        train_set_ratio = 0.70,\n",
        "                        validation_set_ratio=0.10,\n",
        "                        test_set_ratio=0.20\n",
        "                        )"
      ]
    },
    {
      "cell_type": "markdown",
      "metadata": {},
      "source": [
        "---"
      ]
    },
    {
      "cell_type": "markdown",
      "metadata": {},
      "source": [
        "## Conclusions"
      ]
    },
    {
      "cell_type": "markdown",
      "metadata": {},
      "source": [
        "---"
      ]
    },
    {
      "cell_type": "markdown",
      "metadata": {},
      "source": [
        "The data has been downloaded from Kaggle, underwent cleaning, and has now been organized into separate train, test, and validation folders, ready for further development and processing."
      ]
    }
  ],
  "metadata": {
    "accelerator": "GPU",
    "colab": {
      "name": "Data Practitioner Jupyter Notebook.ipynb",
      "provenance": [],
      "toc_visible": true
    },
    "interpreter": {
      "hash": "8b8334dab9339717f727a1deaf837b322d7a41c20d15cc86be99a8e69ceec8ce"
    },
    "kernelspec": {
      "display_name": "Python 3.8.12 64-bit ('3.8.12': pyenv)",
      "name": "python3"
    },
    "language_info": {
      "codemirror_mode": {
        "name": "ipython",
        "version": 3
      },
      "file_extension": ".py",
      "mimetype": "text/x-python",
      "name": "python",
      "nbconvert_exporter": "python",
      "pygments_lexer": "ipython3",
      "version": "3.8.18"
    },
    "orig_nbformat": 2
  },
  "nbformat": 4,
  "nbformat_minor": 2
}
