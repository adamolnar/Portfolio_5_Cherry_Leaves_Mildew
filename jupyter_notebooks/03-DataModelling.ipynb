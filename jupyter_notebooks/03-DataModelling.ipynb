{
 "cells": [
  {
   "cell_type": "markdown",
   "metadata": {},
   "source": [
    "# **Data Modelling and Evaluation**"
   ]
  },
  {
   "cell_type": "markdown",
   "metadata": {},
   "source": [
    "---"
   ]
  },
  {
   "cell_type": "markdown",
   "metadata": {},
   "source": [
    "## Objectives\n",
    "\n",
    "* Answer business requirement 2: \n",
    "    * The client seeks to predict whether a cherry leaf is healthy or infected with powdery mildew.\n",
    "\n",
    "## Inputs\n",
    "\n",
    "* inputs/cherry_leaves_dataset/cherry-leaves/train\n",
    "* inputs/cherry_leaves_dataset/cherry-leaves/test\n",
    "* inputs/cherry_leaves_dataset/cherry-leaves/validation\n",
    "* image shape embeddings\n",
    "\n",
    "## Outputs\n",
    "\n",
    "* Images distribution plot in train, validation, and test set\n",
    "* Image augmentation\n",
    "* Class indices to change prediction inference in labels\n",
    "* Machine learning model creation and training\n",
    "* Save model\n",
    "* Learning curve plot for model performance\n",
    "* Model evaluation on pickle file\n",
    "* Prediction on the random image file\n",
    "\n",
    "\n",
    "\n",
    "\n",
    "\n",
    "## Additional Comments:\n",
    "\n",
    "N/A\n"
   ]
  },
  {
   "cell_type": "markdown",
   "metadata": {},
   "source": [
    "---"
   ]
  },
  {
   "cell_type": "markdown",
   "metadata": {},
   "source": [
    "## 1. Set Data Directory and Import Libraries"
   ]
  },
  {
   "cell_type": "markdown",
   "metadata": {},
   "source": [
    "---"
   ]
  },
  {
   "cell_type": "markdown",
   "metadata": {},
   "source": [
    "Import libraries"
   ]
  },
  {
   "cell_type": "code",
   "execution_count": null,
   "metadata": {},
   "outputs": [],
   "source": [
    "import os\n",
    "import pandas as pd\n",
    "import numpy as np\n",
    "import matplotlib.pyplot as plt\n",
    "import seaborn as sns\n",
    "from matplotlib.image import imread\n",
    "import joblib"
   ]
  },
  {
   "cell_type": "markdown",
   "metadata": {},
   "source": [
    "---"
   ]
  },
  {
   "cell_type": "markdown",
   "metadata": {},
   "source": [
    "## 2. Set working directory"
   ]
  },
  {
   "cell_type": "markdown",
   "metadata": {},
   "source": [
    "---"
   ]
  },
  {
   "cell_type": "code",
   "execution_count": null,
   "metadata": {},
   "outputs": [],
   "source": [
    "cwd= os.getcwd()"
   ]
  },
  {
   "cell_type": "code",
   "execution_count": null,
   "metadata": {},
   "outputs": [],
   "source": [
    "os.chdir('/workspace/Portfolio_5_Cherry_Leaves_Mildew')\n",
    "print(\"You set a new current directory\")"
   ]
  },
  {
   "cell_type": "code",
   "execution_count": null,
   "metadata": {},
   "outputs": [],
   "source": [
    "work_dir = os.getcwd()\n",
    "work_dir"
   ]
  },
  {
   "cell_type": "markdown",
   "metadata": {},
   "source": [
    "---"
   ]
  },
  {
   "cell_type": "markdown",
   "metadata": {},
   "source": [
    "## 3. Set input directories (Train, Validation, Test)"
   ]
  },
  {
   "cell_type": "markdown",
   "metadata": {},
   "source": [
    "---"
   ]
  },
  {
   "cell_type": "markdown",
   "metadata": {},
   "source": [
    "Set train, validation and test paths."
   ]
  },
  {
   "cell_type": "code",
   "execution_count": null,
   "metadata": {},
   "outputs": [],
   "source": [
    "my_data_dir = 'inputs/cherry_leaves_dataset/cherry-leaves'\n",
    "train_path = my_data_dir + '/train'\n",
    "val_path = my_data_dir + '/validation'\n",
    "test_path = my_data_dir + '/test'"
   ]
  },
  {
   "cell_type": "markdown",
   "metadata": {},
   "source": [
    "---"
   ]
  },
  {
   "cell_type": "markdown",
   "metadata": {},
   "source": [
    "## 4. Set output directory"
   ]
  },
  {
   "cell_type": "markdown",
   "metadata": {},
   "source": [
    "---"
   ]
  },
  {
   "cell_type": "code",
   "execution_count": null,
   "metadata": {},
   "outputs": [],
   "source": [
    "version = 'v1'\n",
    "file_path = f'outputs/{version}'\n",
    "\n",
    "if 'outputs' in os.listdir(work_dir) and version in os.listdir(work_dir + '/outputs'):\n",
    "  print('Old version is already available create a new version.')\n",
    "  pass\n",
    "else:\n",
    "  os.makedirs(name=file_path)\n"
   ]
  },
  {
   "cell_type": "markdown",
   "metadata": {},
   "source": [
    "---"
   ]
  },
  {
   "cell_type": "markdown",
   "metadata": {},
   "source": [
    "## 5. Set label names"
   ]
  },
  {
   "cell_type": "markdown",
   "metadata": {},
   "source": [
    "---"
   ]
  },
  {
   "cell_type": "markdown",
   "metadata": {},
   "source": [
    "Set labels"
   ]
  },
  {
   "cell_type": "code",
   "execution_count": null,
   "metadata": {},
   "outputs": [],
   "source": [
    "labels = os.listdir(train_path)\n",
    "print('Label for the images are', labels)"
   ]
  },
  {
   "cell_type": "markdown",
   "metadata": {},
   "source": [
    "---"
   ]
  },
  {
   "cell_type": "markdown",
   "metadata": {},
   "source": [
    "## 6. Set image shape"
   ]
  },
  {
   "cell_type": "markdown",
   "metadata": {},
   "source": [
    "---"
   ]
  },
  {
   "cell_type": "markdown",
   "metadata": {},
   "source": [
    "Import saved image shape embedding"
   ]
  },
  {
   "cell_type": "code",
   "execution_count": null,
   "metadata": {},
   "outputs": [],
   "source": [
    "version = 'v1'\n",
    "image_shape = joblib.load(filename=f\"outputs/{version}/image_shape.pkl\")\n",
    "image_shape"
   ]
  },
  {
   "cell_type": "markdown",
   "metadata": {},
   "source": [
    "---"
   ]
  },
  {
   "cell_type": "markdown",
   "metadata": {},
   "source": [
    "## 7. Load Images from Train, Test, and Validation Sets"
   ]
  },
  {
   "cell_type": "markdown",
   "metadata": {},
   "source": [
    "---"
   ]
  },
  {
   "cell_type": "code",
   "execution_count": null,
   "metadata": {},
   "outputs": [],
   "source": [
    "data = []  # List to store data\n",
    "for folder in ['train', 'validation', 'test']:\n",
    "    for label in labels:\n",
    "        num_images = len(os.listdir(os.path.join(my_data_dir, folder, label)))\n",
    "        data.append({'Set': folder, 'Label': label, 'Frequency': num_images})\n",
    "        print(f\"* {folder} - {label}: {num_images} images\")\n",
    "\n",
    "# Create DataFrame from the accumulated data\n",
    "df_freq = pd.DataFrame(data)\n",
    "\n",
    "print(\"\\n\")\n",
    "sns.set_style(\"whitegrid\")\n",
    "plt.figure(figsize=(8,5))\n",
    "sns.barplot(data=df_freq, x='Set', y='Frequency', hue='Label')\n",
    "plt.savefig(f'{file_path}/labels_distribution.png', bbox_inches='tight', dpi=150)\n",
    "plt.show()\n"
   ]
  },
  {
   "cell_type": "markdown",
   "metadata": {},
   "source": [
    "---"
   ]
  },
  {
   "cell_type": "markdown",
   "metadata": {},
   "source": [
    "## 8. Image Data Augmentation"
   ]
  },
  {
   "cell_type": "markdown",
   "metadata": {},
   "source": [
    "---"
   ]
  },
  {
   "cell_type": "markdown",
   "metadata": {},
   "source": [
    "Import ImageDataGenerator"
   ]
  },
  {
   "cell_type": "code",
   "execution_count": null,
   "metadata": {},
   "outputs": [],
   "source": [
    "import cv2\n",
    "import numpy as np\n",
    "import os\n",
    "import random\n",
    "\n",
    "def cv2_image_generator(image_path, batch_size, image_shape, augmentations=None):\n",
    "    \"\"\"\n",
    "    A generator that yields batches of images and their labels using OpenCV for image augmentation.\n",
    "    \n",
    "    :param image_path: Path to the directory containing image subdirectories.\n",
    "    :param batch_size: Number of images to return in each batch.\n",
    "    :param image_shape: Tuple of (height, width) to resize images.\n",
    "    :param augmentations: List of augmentation functions to apply.\n",
    "    :return: Yields a tuple (batch_images, batch_labels).\n",
    "    \"\"\"\n",
    "\n",
    "    # List of all images and labels\n",
    "    all_images = []\n",
    "    labels = os.listdir(image_path)\n",
    "    label_dict = {label: idx for idx, label in enumerate(labels)}\n",
    "\n",
    "    for label in labels:\n",
    "        images_in_label = os.listdir(os.path.join(image_path, label))\n",
    "        for img_name in images_in_label:\n",
    "            img_path = os.path.join(image_path, label, img_name)\n",
    "            all_images.append((img_path, label_dict[label]))\n",
    "\n",
    "    while True:\n",
    "        # Shuffle images\n",
    "        random.shuffle(all_images)\n",
    "\n",
    "        # Generate batches\n",
    "        for i in range(0, len(all_images), batch_size):\n",
    "            batch_images = []\n",
    "            batch_labels = []\n",
    "            for img_path, label in all_images[i:i+batch_size]:\n",
    "                img = cv2.imread(img_path)\n",
    "                img = cv2.resize(img, image_shape)\n",
    "\n",
    "                # Apply augmentations\n",
    "                if augmentations:\n",
    "                    for func in augmentations:\n",
    "                        img = func(img)\n",
    "\n",
    "                batch_images.append(img)\n",
    "                batch_labels.append(label)\n",
    "\n",
    "            yield np.array(batch_images), np.array(batch_labels)\n",
    "\n",
    "# Define augmentation functions\n",
    "def flip_image(image):\n",
    "    return cv2.flip(image, 1)  # Flip horizontally\n",
    "\n",
    "def rotate_image(image):\n",
    "    angle = random.choice([90, 180, 270])\n",
    "    height, width = image.shape[:2]\n",
    "    M = cv2.getRotationMatrix2D((width/2, height/2), angle, 1)\n",
    "    return cv2.warpAffine(image, M, (width, height))\n",
    "\n",
    "def blur_image(image):\n",
    "    kernel_size = random.choice([3, 5, 7])  # Randomly choose kernel size (3x3, 5x5, or 7x7)\n",
    "    return cv2.GaussianBlur(image, (kernel_size, kernel_size), 0)\n",
    "\n",
    "# Example usage\n",
    "image_gen = cv2_image_generator(train_path, batch_size=32, image_shape=(128, 128), augmentations=[flip_image, rotate_image])\n",
    "\n",
    "# Fetch a batch of images and labels\n",
    "images, labels = next(image_gen)\n"
   ]
  },
  {
   "cell_type": "markdown",
   "metadata": {},
   "source": [
    "* Intiatize ImageDataGenerator"
   ]
  },
  {
   "cell_type": "code",
   "execution_count": null,
   "metadata": {},
   "outputs": [],
   "source": [
    "def plot_images_with_pixels(images, labels, n_rows=2, n_cols=3):\n",
    "    \"\"\"\n",
    "    Plot a selection of images with their labels and pixel values.\n",
    "    \n",
    "    :param images: Array of images.\n",
    "    :param labels: Corresponding labels.\n",
    "    :param n_rows: Number of rows in the plot grid.\n",
    "    :param n_cols: Number of columns in the plot grid. Each column will have an image and its pixel values.\n",
    "    \"\"\"\n",
    "    fig, axes = plt.subplots(n_rows, n_cols * 2, figsize=(n_cols * 4, n_rows * 2))\n",
    "\n",
    "    for i in range(n_rows * n_cols):\n",
    "        # Show image\n",
    "        ax_img = axes[i // n_cols, (i % n_cols) * 2]\n",
    "        ax_img.imshow(cv2.cvtColor(images[i], cv2.COLOR_BGR2RGB))\n",
    "        ax_img.set_title(f'Label: {labels[i]}')\n",
    "        ax_img.axis('off')\n",
    "\n",
    "        # Show pixel values\n",
    "        ax_pixel = axes[i // n_cols, (i % n_cols) * 2 + 1]\n",
    "        ax_pixel.imshow(images[i][:,:,0], cmap='Reds')\n",
    "        ax_pixel.set_title(f'Pixel Values (Red Channel)')\n",
    "        ax_pixel.axis('off')\n",
    "\n",
    "    plt.tight_layout()\n",
    "    plt.show()\n",
    "\n",
    "# Fetch a batch of images and labels from the generator\n",
    "images, labels = next(image_gen)\n",
    "\n",
    "# Plot the images and their pixel values\n",
    "plot_images_with_pixels(images, labels)\n"
   ]
  },
  {
   "cell_type": "markdown",
   "metadata": {},
   "source": [
    "* Augment test image dataset"
   ]
  },
  {
   "cell_type": "code",
   "execution_count": null,
   "metadata": {},
   "outputs": [],
   "source": [
    "def plot_test_images(image_gen, num_images=10):\n",
    "    \"\"\"\n",
    "    Fetches a batch of images from the generator and plots them.\n",
    "    \n",
    "    :param image_gen: The image generator function.\n",
    "    :param num_images: Number of images to plot.\n",
    "    \"\"\"\n",
    "    images, labels = next(image_gen)  # Fetch a batch of images and labels\n",
    "\n",
    "    # Number of rows and columns for subplot\n",
    "    n_cols = 5\n",
    "    n_rows = num_images // n_cols + (num_images % n_cols > 0)\n",
    "\n",
    "    plt.figure(figsize=(n_cols * 2, n_rows * 2))\n",
    "\n",
    "    for i in range(num_images):\n",
    "        plt.subplot(n_rows, n_cols, i + 1)\n",
    "        plt.imshow(cv2.cvtColor(images[i], cv2.COLOR_BGR2RGB))  # Convert color space from BGR to RGB\n",
    "        plt.title(f'Label: {labels[i]}')\n",
    "        plt.axis('off')\n",
    "\n",
    "    plt.tight_layout()\n",
    "    plt.show()\n",
    "\n",
    "# Create your image generator for the test set\n",
    "test_image_gen = cv2_image_generator(test_path, batch_size=10, image_shape=(128, 128), augmentations=[flip_image, rotate_image])\n",
    "\n",
    "# Plot augmented test images\n",
    "plot_test_images(test_image_gen, num_images=10)\n"
   ]
  },
  {
   "cell_type": "markdown",
   "metadata": {},
   "source": [
    "* Augment train image dataset"
   ]
  },
  {
   "cell_type": "code",
   "execution_count": null,
   "metadata": {},
   "outputs": [],
   "source": [
    "def plot_train_images(image_gen, num_images=10):\n",
    "    \"\"\"\n",
    "    Fetches a batch of images from the generator and plots them.\n",
    "    \n",
    "    :param image_gen: The image generator function.\n",
    "    :param num_images: Number of images to plot.\n",
    "    \"\"\"\n",
    "    images, labels = next(image_gen)  # Fetch a batch of images and labels\n",
    "\n",
    "    # Number of rows and columns for subplot\n",
    "    n_cols = 5\n",
    "    n_rows = num_images // n_cols + (num_images % n_cols > 0)\n",
    "\n",
    "    plt.figure(figsize=(n_cols * 2, n_rows * 2))\n",
    "\n",
    "    for i in range(num_images):\n",
    "        plt.subplot(n_rows, n_cols, i + 1)\n",
    "        plt.imshow(cv2.cvtColor(images[i], cv2.COLOR_BGR2RGB))  # Convert color space from BGR to RGB\n",
    "        plt.title(f'Label: {labels[i]}')\n",
    "        plt.axis('off')\n",
    "\n",
    "    plt.tight_layout()\n",
    "    plt.show()\n",
    "\n",
    "# Create your image generator for the validation set\n",
    "validation_image_gen = cv2_image_generator(train_path, batch_size=10, image_shape=(128, 128), augmentations=[flip_image, rotate_image])\n",
    "\n",
    "# Plot validation images\n",
    "plot_train_images(validation_image_gen, num_images=10)\n"
   ]
  },
  {
   "cell_type": "markdown",
   "metadata": {},
   "source": [
    "* Augment validation image dataset"
   ]
  },
  {
   "cell_type": "code",
   "execution_count": null,
   "metadata": {},
   "outputs": [],
   "source": [
    "def plot_validation_images(image_gen, num_images=10):\n",
    "    \"\"\"\n",
    "    Fetches a batch of images from the generator and plots them.\n",
    "    \n",
    "    :param image_gen: The image generator function.\n",
    "    :param num_images: Number of images to plot.\n",
    "    \"\"\"\n",
    "    images, labels = next(image_gen)  # Fetch a batch of images and labels\n",
    "\n",
    "    # Number of rows and columns for subplot\n",
    "    n_cols = 5\n",
    "    n_rows = num_images // n_cols + (num_images % n_cols > 0)\n",
    "\n",
    "    plt.figure(figsize=(n_cols * 2, n_rows * 2))\n",
    "\n",
    "    for i in range(num_images):\n",
    "        plt.subplot(n_rows, n_cols, i + 1)\n",
    "        plt.imshow(cv2.cvtColor(images[i], cv2.COLOR_BGR2RGB))  # Convert color space from BGR to RGB\n",
    "        plt.title(f'Label: {labels[i]}')\n",
    "        plt.axis('off')\n",
    "\n",
    "    plt.tight_layout()\n",
    "    plt.show()\n",
    "\n",
    "# Create your image generator for the validation set\n",
    "validation_image_gen = cv2_image_generator(val_path, batch_size=10, image_shape=(128, 128), augmentations=[flip_image, rotate_image])\n",
    "\n",
    "# Plot validation images\n",
    "plot_validation_images(validation_image_gen, num_images=10)\n"
   ]
  },
  {
   "cell_type": "markdown",
   "metadata": {},
   "source": [
    "---"
   ]
  },
  {
   "cell_type": "markdown",
   "metadata": {},
   "source": [
    "## 9. Save Class Indices"
   ]
  },
  {
   "cell_type": "markdown",
   "metadata": {},
   "source": [
    "---"
   ]
  },
  {
   "cell_type": "code",
   "execution_count": null,
   "metadata": {},
   "outputs": [],
   "source": [
    "class_indices = {'healthy': 0, 'powdery_mildew': 1} \n",
    "\n",
    "# Save the class indices to a file using joblib or any other suitable method\n",
    "joblib.dump(class_indices, f'{file_path}/class_indices.pkl')"
   ]
  },
  {
   "cell_type": "markdown",
   "metadata": {},
   "source": [
    "---"
   ]
  },
  {
   "cell_type": "markdown",
   "metadata": {},
   "source": [
    "## 10. Model Creation and Training"
   ]
  },
  {
   "cell_type": "markdown",
   "metadata": {},
   "source": [
    "---"
   ]
  },
  {
   "cell_type": "markdown",
   "metadata": {},
   "source": [
    "Advanced model and hyperparameter tuning using GridSearchCV\n"
   ]
  },
  {
   "cell_type": "code",
   "execution_count": null,
   "metadata": {},
   "outputs": [],
   "source": [
    "from sklearn.ensemble import RandomForestClassifier\n",
    "from sklearn.model_selection import GridSearchCV\n",
    "import joblib\n",
    "\n",
    "X_train = images\n",
    "X_train = X_train.reshape(X_train.shape[0], -1)\n",
    "y_train = labels\n",
    "\n",
    "print(\"Number of samples in X_train:\", len(X_train))\n",
    "print(\"Number of samples in y_train:\", len(y_train))\n",
    "\n",
    "\n",
    "# Define the RandomForestClassifier model\n",
    "model = RandomForestClassifier()\n",
    "\n",
    "# Define hyperparameters for tuning using GridSearchCV\n",
    "param_grid = {\n",
    "    'n_estimators': [100, 200, 300],  # Number of trees in the forest\n",
    "    'max_depth': [None, 10, 20, 30],  # Maximum depth of the trees\n",
    "    'min_samples_split': [2, 5, 10],  # Minimum samples required to split a node\n",
    "    'min_samples_leaf': [1, 2, 4]  # Minimum samples required at each leaf node\n",
    "}\n",
    "\n",
    "# Create a GridSearchCV object to search for the best hyperparameters\n",
    "grid_search = GridSearchCV(estimator=model, param_grid=param_grid, cv=5, n_jobs=-1, verbose=2)\n",
    "\n",
    "# Fit the model to the training data\n",
    "grid_search.fit(X_train, y_train)  # Replace X_train and y_train with your training data\n",
    "\n",
    "# Get the best hyperparameters from the grid search\n",
    "best_params = grid_search.best_params_\n",
    "print(\"Best Hyperparameters:\", best_params)\n",
    "\n",
    "# Train the model with the best hyperparameters\n",
    "best_model = RandomForestClassifier(**best_params)\n",
    "best_model.fit(X_train, y_train)\n",
    "\n",
    "# Save the trained model using joblib\n",
    "model_filename = f'{file_path}/trained_model.pkl'\n",
    "joblib.dump(best_model, model_filename)\n",
    "print(\"Model saved successfully.\")\n"
   ]
  },
  {
   "cell_type": "markdown",
   "metadata": {},
   "source": [
    "---"
   ]
  },
  {
   "cell_type": "markdown",
   "metadata": {},
   "source": [
    "## 11. Save the Model\n"
   ]
  },
  {
   "cell_type": "markdown",
   "metadata": {},
   "source": [
    "---"
   ]
  },
  {
   "cell_type": "markdown",
   "metadata": {},
   "source": [
    " Save the trained RandomForestClassifier using joblib"
   ]
  },
  {
   "cell_type": "code",
   "execution_count": null,
   "metadata": {},
   "outputs": [],
   "source": [
    "import joblib\n",
    "\n",
    "# Specify the path and filename where you want to save the model\n",
    "model_filename = '/workspace/Portfolio_5_Cherry_Leaves_Mildew/outputs/trained_random_forest_model.pkl'\n",
    "\n",
    "# Save the trained model to the specified file\n",
    "joblib.dump(best_model, model_filename)\n",
    "\n",
    "print(\"Model saved successfully.\")\n"
   ]
  },
  {
   "cell_type": "markdown",
   "metadata": {},
   "source": [
    "---"
   ]
  },
  {
   "cell_type": "markdown",
   "metadata": {},
   "source": [
    "## 12. Plot Learning Curve for Model Performance"
   ]
  },
  {
   "cell_type": "markdown",
   "metadata": {},
   "source": [
    "---"
   ]
  },
  {
   "cell_type": "markdown",
   "metadata": {},
   "source": [
    "### Model learning curve"
   ]
  },
  {
   "cell_type": "code",
   "execution_count": null,
   "metadata": {},
   "outputs": [],
   "source": [
    "from sklearn.model_selection import learning_curve\n",
    "\n",
    "# Define a function to plot the learning curve\n",
    "def plot_learning_curve(estimator, title, X, y, axes=None, ylim=None, cv=None,\n",
    "                        n_jobs=None, train_sizes=np.linspace(.1, 1.0, 5)):\n",
    "    if axes is None:\n",
    "        _, axes = plt.subplots(1, 1, figsize=(10, 5))\n",
    "\n",
    "    axes.set_title(title)\n",
    "    if ylim is not None:\n",
    "        axes.set_ylim(*ylim)\n",
    "    axes.set_xlabel(\"Training examples\")\n",
    "    axes.set_ylabel(\"Score\")\n",
    "\n",
    "    train_sizes, train_scores, test_scores, fit_times, _ = \\\n",
    "        learning_curve(estimator, X, y, cv=cv, n_jobs=n_jobs,\n",
    "                       train_sizes=train_sizes,\n",
    "                       return_times=True)\n",
    "    train_scores_mean = np.mean(train_scores, axis=1)\n",
    "    train_scores_std = np.std(train_scores, axis=1)\n",
    "    test_scores_mean = np.mean(test_scores, axis=1)\n",
    "    test_scores_std = np.std(test_scores, axis=1)\n",
    "    fit_times_mean = np.mean(fit_times, axis=1)\n",
    "    fit_times_std = np.std(fit_times, axis=1)\n",
    "\n",
    "    # Plot learning curve\n",
    "    axes.grid()\n",
    "    axes.fill_between(train_sizes, train_scores_mean - train_scores_std,\n",
    "                         train_scores_mean + train_scores_std, alpha=0.1,\n",
    "                         color=\"r\")\n",
    "    axes.fill_between(train_sizes, test_scores_mean - test_scores_std,\n",
    "                         test_scores_mean + test_scores_std, alpha=0.1,\n",
    "                         color=\"g\")\n",
    "    axes.plot(train_sizes, train_scores_mean, 'o-', color=\"r\",\n",
    "                 label=\"Training score\")\n",
    "    axes.plot(train_sizes, test_scores_mean, 'o-', color=\"g\",\n",
    "                 label=\"Cross-validation score\")\n",
    "    axes.legend(loc=\"best\")\n",
    "\n",
    "    return plt\n",
    "\n",
    "# Plot the learning curve for your best_model\n",
    "plt.figure(figsize=(12, 6))\n",
    "plot_learning_curve(best_model, \"Learning Curve\", X_train, y_train, cv=5, n_jobs=-1)\n",
    "\n",
    "# Save the learning curve plot\n",
    "learning_curve_filename = f'{file_path}/learning_curve.png'\n",
    "plt.savefig(learning_curve_filename, bbox_inches='tight', dpi=150)\n",
    "plt.show()\n"
   ]
  },
  {
   "cell_type": "markdown",
   "metadata": {},
   "source": [
    "---"
   ]
  },
  {
   "cell_type": "markdown",
   "metadata": {},
   "source": [
    "## 13. Model Evaluation on Test Data"
   ]
  },
  {
   "cell_type": "markdown",
   "metadata": {},
   "source": [
    "---"
   ]
  },
  {
   "cell_type": "code",
   "execution_count": null,
   "metadata": {},
   "outputs": [],
   "source": [
    "from sklearn.metrics import accuracy_score, classification_report, confusion_matrix\n",
    "import joblib\n",
    "\n",
    "# Load the trained model\n",
    "best_model = joblib.load(model_filename)\n",
    "\n",
    "\n",
    "# Make predictions on the test data\n",
    "y_pred = best_model.predict(X_test)\n",
    "\n",
    "# Calculate accuracy\n",
    "accuracy = accuracy_score(y_test, y_pred)\n",
    "print(f\"Accuracy: {accuracy * 100:.2f}%\")\n",
    "\n",
    "# Generate a classification report\n",
    "class_report = classification_report(y_test, y_pred, target_names=labels)\n",
    "print(\"Classification Report:\\n\", class_report)\n",
    "\n",
    "# Generate a confusion matrix\n",
    "conf_matrix = confusion_matrix(y_test, y_pred)\n",
    "print(\"Confusion Matrix:\\n\", conf_matrix)\n"
   ]
  },
  {
   "cell_type": "markdown",
   "metadata": {},
   "source": [
    "---"
   ]
  },
  {
   "cell_type": "markdown",
   "metadata": {},
   "source": [
    "## 14. Prediction on a Random Image File"
   ]
  },
  {
   "cell_type": "markdown",
   "metadata": {},
   "source": [
    "---"
   ]
  },
  {
   "cell_type": "markdown",
   "metadata": {},
   "source": [
    "Load a random image as PIL"
   ]
  },
  {
   "cell_type": "markdown",
   "metadata": {},
   "source": [
    "Convert image to array and prepare for prediction"
   ]
  },
  {
   "cell_type": "markdown",
   "metadata": {},
   "source": [
    "Predict class probabilities"
   ]
  },
  {
   "cell_type": "markdown",
   "metadata": {},
   "source": [
    "---"
   ]
  },
  {
   "cell_type": "markdown",
   "metadata": {},
   "source": [
    "## 15. Push Files to Repo (Git Commands)"
   ]
  },
  {
   "cell_type": "markdown",
   "metadata": {},
   "source": [
    "---"
   ]
  },
  {
   "cell_type": "markdown",
   "metadata": {},
   "source": [
    "#### Push generated/new files from this Session to GitHub repo"
   ]
  },
  {
   "cell_type": "markdown",
   "metadata": {},
   "source": [
    "* .gitignore"
   ]
  },
  {
   "cell_type": "code",
   "execution_count": null,
   "metadata": {},
   "outputs": [],
   "source": [
    "!cat .gitignore"
   ]
  },
  {
   "cell_type": "markdown",
   "metadata": {},
   "source": [
    "* Git status"
   ]
  },
  {
   "cell_type": "code",
   "execution_count": null,
   "metadata": {},
   "outputs": [],
   "source": [
    "!git status"
   ]
  },
  {
   "cell_type": "markdown",
   "metadata": {},
   "source": [
    "* Git add"
   ]
  },
  {
   "cell_type": "code",
   "execution_count": null,
   "metadata": {},
   "outputs": [],
   "source": [
    "!git add ."
   ]
  },
  {
   "cell_type": "markdown",
   "metadata": {},
   "source": [
    "* Git commit"
   ]
  },
  {
   "cell_type": "code",
   "execution_count": null,
   "metadata": {},
   "outputs": [],
   "source": [
    "!git commit -am \" Add new plots- test run\""
   ]
  },
  {
   "cell_type": "markdown",
   "metadata": {},
   "source": [
    "* Git Push"
   ]
  },
  {
   "cell_type": "code",
   "execution_count": null,
   "metadata": {},
   "outputs": [],
   "source": [
    "!git push"
   ]
  }
 ],
 "metadata": {
  "kernelspec": {
   "display_name": "Python 3",
   "language": "python",
   "name": "python3"
  },
  "language_info": {
   "codemirror_mode": {
    "name": "ipython",
    "version": 3
   },
   "file_extension": ".py",
   "mimetype": "text/x-python",
   "name": "python",
   "nbconvert_exporter": "python",
   "pygments_lexer": "ipython3",
   "version": "3.12.1"
  }
 },
 "nbformat": 4,
 "nbformat_minor": 2
}
