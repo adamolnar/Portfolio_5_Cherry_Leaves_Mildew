{
 "cells": [
  {
   "cell_type": "markdown",
   "metadata": {},
   "source": [
    "# **Data Modelling and Evaluation**"
   ]
  },
  {
   "cell_type": "markdown",
   "metadata": {},
   "source": [
    "---"
   ]
  },
  {
   "cell_type": "markdown",
   "metadata": {},
   "source": [
    "## Objectives\n",
    "\n",
    "* Answer business requirement 2: \n",
    "    * The client seeks to predict whether a cherry leaf is healthy or infected with powdery mildew.\n",
    "\n",
    "## Inputs\n",
    "\n",
    "* inputs/cherry_leaves_dataset/cherry-leaves/train\n",
    "* inputs/cherry_leaves_dataset/cherry-leaves/test\n",
    "* inputs/cherry_leaves_dataset/cherry-leaves/validation\n",
    "\n",
    "## Outputs\n",
    "\n",
    "1. **Images Distribution Plot**\n",
    "   - Generate distribution plots for images in the training, validation, and test datasets to understand data balance.\n",
    "\n",
    "2. **Image Augmentation**\n",
    "   - Apply data augmentation techniques to enhance the training dataset's diversity and generalization.\n",
    "\n",
    "3. **Class Indices Mapping**\n",
    "   - Create a mapping of class indices to label names to interpret model predictions.\n",
    "\n",
    "4. **Machine Learning Model Development**\n",
    "   - Choose an appropriate machine learning algorithm or neural network architecture.\n",
    "   - Train the selected model using the preprocessed training data.\n",
    "\n",
    "5. **Model Saving**\n",
    "   - Save the trained machine learning model for future use.\n",
    "\n",
    "6. **Learning Curve Plot**\n",
    "   - Create learning curve plots to visualize the model's performance over training epochs.\n",
    "\n",
    "7. **Model Evaluation and Pickle File**\n",
    "   - Evaluate the trained model using the validation dataset.\n",
    "   - Save the evaluation results in a pickle file for future reference.\n",
    "\n",
    "8. **Random Image Prediction**\n",
    "   - Select a random image from the dataset.\n",
    "   - Utilize the trained model to predict whether the leaf is infected with powdery mildew or not.\n",
    "\n",
    "## Steps and Tasks\n",
    "\n",
    "1. **Data Preprocessing**\n",
    "   - Load and preprocess the training, validation, and test data.\n",
    "   - Generate and save images distribution plots for each dataset.\n",
    "\n",
    "2. **Data Augmentation**\n",
    "   - Apply data augmentation techniques such as rotation, scaling, and flipping to augment the training dataset.\n",
    "\n",
    "3. **Label Mapping**\n",
    "   - Create a dictionary or mapping to convert model predictions (indices) into human-readable labels.\n",
    "\n",
    "4. **Model Development**\n",
    "   - Select an appropriate machine learning model or neural network architecture.\n",
    "   - Train the chosen model using the preprocessed training data.\n",
    "\n",
    "5. **Model Saving**\n",
    "   - Save the trained model to a file for later use.\n",
    "\n",
    "6. **Learning Curve Plotting**\n",
    "   - Plot learning curves to visualize how the model's performance changes during training.\n",
    "\n",
    "7. **Model Evaluation**\n",
    "   - Evaluate the trained model's performance using the validation dataset.\n",
    "   - Save the evaluation results, including accuracy, precision, recall, and F1-score, in a pickle file.\n",
    "\n",
    "8. **Random Image Prediction**\n",
    "   - Select a random image from the dataset.\n",
    "   - Use the trained model to predict whether the selected leaf image is infected with powdery mildew.\n",
    "\n",
    "\n",
    "\n",
    "\n",
    "\n",
    "## Additional Comments:\n",
    "\n",
    "N/A\n"
   ]
  },
  {
   "cell_type": "markdown",
   "metadata": {},
   "source": [
    "---"
   ]
  },
  {
   "cell_type": "markdown",
   "metadata": {},
   "source": [
    "# Set Data Directory"
   ]
  },
  {
   "cell_type": "markdown",
   "metadata": {},
   "source": [
    "---"
   ]
  },
  {
   "cell_type": "markdown",
   "metadata": {},
   "source": [
    "## Import libraries"
   ]
  },
  {
   "cell_type": "code",
   "execution_count": null,
   "metadata": {},
   "outputs": [],
   "source": [
    "import pandas as pd\n",
    "import os\n",
    "import seaborn as sns\n",
    "import matplotlib.pyplot as plt"
   ]
  },
  {
   "cell_type": "markdown",
   "metadata": {},
   "source": [
    "## Set working directory"
   ]
  },
  {
   "cell_type": "code",
   "execution_count": null,
   "metadata": {},
   "outputs": [],
   "source": [
    "cwd= os.getcwd()"
   ]
  },
  {
   "cell_type": "code",
   "execution_count": null,
   "metadata": {},
   "outputs": [],
   "source": [
    "os.chdir('/workspace/Portfolio_5_Cherry_Leaves_Mildew')\n",
    "print(\"You set a new current directory\")"
   ]
  },
  {
   "cell_type": "code",
   "execution_count": null,
   "metadata": {},
   "outputs": [],
   "source": [
    "current_dir = os.getcwd()\n",
    "current_dir"
   ]
  },
  {
   "cell_type": "markdown",
   "metadata": {},
   "source": [
    "## Set input directories"
   ]
  },
  {
   "cell_type": "markdown",
   "metadata": {},
   "source": [
    "Set train, validation and test paths."
   ]
  },
  {
   "cell_type": "code",
   "execution_count": null,
   "metadata": {},
   "outputs": [],
   "source": [
    "my_data_dir = 'inputs/cherry_leaves_dataset/cherry-leaves'\n",
    "train_path = my_data_dir + '/train'\n",
    "val_path = my_data_dir + '/validation'\n",
    "test_path = my_data_dir + '/test'"
   ]
  },
  {
   "cell_type": "markdown",
   "metadata": {},
   "source": [
    "## Set output directory"
   ]
  },
  {
   "cell_type": "code",
   "execution_count": null,
   "metadata": {},
   "outputs": [],
   "source": [
    "version = 'v1'\n",
    "file_path = f'outputs/{version}'\n",
    "\n",
    "if 'outputs' in os.listdir(current_dir) and version in os.listdir(current_dir + '/outputs'):\n",
    "    print('Old version is already available create a new version.')\n",
    "    pass\n",
    "else:\n",
    "    os.makedirs(name=file_path)"
   ]
  },
  {
   "cell_type": "markdown",
   "metadata": {},
   "source": [
    "### Set label names"
   ]
  },
  {
   "cell_type": "code",
   "execution_count": null,
   "metadata": {},
   "outputs": [],
   "source": [
    "# Set the labels\n",
    "labels = os.listdir(train_path)\n",
    "print('Label for the images are', labels)"
   ]
  },
  {
   "cell_type": "markdown",
   "metadata": {},
   "source": [
    "---"
   ]
  },
  {
   "cell_type": "markdown",
   "metadata": {},
   "source": [
    "## Checking the number of images in the train, test, and validation datasets, and preparing for image augmentation:"
   ]
  },
  {
   "cell_type": "markdown",
   "metadata": {},
   "source": [
    "---"
   ]
  },
  {
   "cell_type": "code",
   "execution_count": null,
   "metadata": {},
   "outputs": [],
   "source": [
    "# Create an empty DataFrame to store image statistics\n",
    "df = pd.DataFrame([])\n",
    "\n",
    "# Iterate through each dataset folder (test, train, validation)\n",
    "for folder in ['test', 'train', 'validation']:\n",
    "    for label in labels:\n",
    "        # Get the number of images in the current folder and label combination\n",
    "        num_images = len(os.listdir(current_dir + '/' + folder + '/' + label))\n",
    "\n",
    "        # Append the statistics to the DataFrame\n",
    "        df = df.append(\n",
    "            pd.Series(data={'Set': folder,\n",
    "                            'Label': label,\n",
    "                            'Frequency': num_images}\n",
    "                      ),\n",
    "            ignore_index=True\n",
    "        )\n",
    "\n",
    "        # Print the number of images for the current folder and label\n",
    "        print(f\"* {folder} - {label}: {num_images} images\")\n",
    "\n",
    "# Visualize the distribution of images using a bar plot\n",
    "sns.set_style(\"whitegrid\")\n",
    "plt.figure(figsize=(8, 5))\n",
    "sns.barplot(data=df, x='Set', y='Frequency', hue='Label')\n",
    "\n",
    "# Save the distribution plot as an image\n",
    "plt.savefig(f'{file_path}/labels_distribution.png',\n",
    "            bbox_inches='tight', dpi=150)\n",
    "\n",
    "# Display the plot\n",
    "plt.show()"
   ]
  }
 ],
 "metadata": {
  "kernelspec": {
   "display_name": "Python 3",
   "language": "python",
   "name": "python3"
  },
  "language_info": {
   "codemirror_mode": {
    "name": "ipython",
    "version": 3
   },
   "file_extension": ".py",
   "mimetype": "text/x-python",
   "name": "python",
   "nbconvert_exporter": "python",
   "pygments_lexer": "ipython3",
   "version": "3.12.1"
  }
 },
 "nbformat": 4,
 "nbformat_minor": 2
}
